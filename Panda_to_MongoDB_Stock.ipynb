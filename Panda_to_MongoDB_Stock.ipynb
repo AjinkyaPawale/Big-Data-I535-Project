{
 "cells": [
  {
   "cell_type": "code",
   "execution_count": 14,
   "metadata": {
    "scrolled": true
   },
   "outputs": [
    {
     "name": "stdout",
     "output_type": "stream",
     "text": [
      "Requirement already satisfied: pymongo[srv] in /Users/ajinkyapawale/opt/anaconda3/lib/python3.8/site-packages (3.12.1)\n",
      "Collecting dnspython<3.0.0,>=1.16.0; extra == \"srv\"\n",
      "  Downloading dnspython-2.1.0-py3-none-any.whl (241 kB)\n",
      "\u001b[K     |████████████████████████████████| 241 kB 5.7 MB/s eta 0:00:01\n",
      "\u001b[?25hInstalling collected packages: dnspython\n",
      "Successfully installed dnspython-2.1.0\n"
     ]
    }
   ],
   "source": [
    "!pip install \"pymongo[srv]\""
   ]
  },
  {
   "cell_type": "code",
   "execution_count": 2,
   "metadata": {},
   "outputs": [],
   "source": [
    "import pandas as pd\n",
    "from urllib.parse import quote\n",
    "import numpy as np\n",
    "from pymongo import MongoClient\n",
    "from dns import resolver\n",
    "import certifi\n",
    "ca = certifi.where()\n"
   ]
  },
  {
   "cell_type": "code",
   "execution_count": 3,
   "metadata": {},
   "outputs": [],
   "source": [
    "data = pd.read_csv('all_stocks_5yr.csv')"
   ]
  },
  {
   "cell_type": "code",
   "execution_count": 4,
   "metadata": {
    "scrolled": true
   },
   "outputs": [
    {
     "data": {
      "text/html": [
       "<div>\n",
       "<style scoped>\n",
       "    .dataframe tbody tr th:only-of-type {\n",
       "        vertical-align: middle;\n",
       "    }\n",
       "\n",
       "    .dataframe tbody tr th {\n",
       "        vertical-align: top;\n",
       "    }\n",
       "\n",
       "    .dataframe thead th {\n",
       "        text-align: right;\n",
       "    }\n",
       "</style>\n",
       "<table border=\"1\" class=\"dataframe\">\n",
       "  <thead>\n",
       "    <tr style=\"text-align: right;\">\n",
       "      <th></th>\n",
       "      <th>date</th>\n",
       "      <th>open</th>\n",
       "      <th>high</th>\n",
       "      <th>low</th>\n",
       "      <th>close</th>\n",
       "      <th>volume</th>\n",
       "      <th>Name</th>\n",
       "    </tr>\n",
       "  </thead>\n",
       "  <tbody>\n",
       "    <tr>\n",
       "      <th>0</th>\n",
       "      <td>2013-02-08</td>\n",
       "      <td>15.07</td>\n",
       "      <td>15.12</td>\n",
       "      <td>14.63</td>\n",
       "      <td>14.75</td>\n",
       "      <td>8407500</td>\n",
       "      <td>AAL</td>\n",
       "    </tr>\n",
       "    <tr>\n",
       "      <th>1</th>\n",
       "      <td>2013-02-11</td>\n",
       "      <td>14.89</td>\n",
       "      <td>15.01</td>\n",
       "      <td>14.26</td>\n",
       "      <td>14.46</td>\n",
       "      <td>8882000</td>\n",
       "      <td>AAL</td>\n",
       "    </tr>\n",
       "    <tr>\n",
       "      <th>2</th>\n",
       "      <td>2013-02-12</td>\n",
       "      <td>14.45</td>\n",
       "      <td>14.51</td>\n",
       "      <td>14.10</td>\n",
       "      <td>14.27</td>\n",
       "      <td>8126000</td>\n",
       "      <td>AAL</td>\n",
       "    </tr>\n",
       "    <tr>\n",
       "      <th>3</th>\n",
       "      <td>2013-02-13</td>\n",
       "      <td>14.30</td>\n",
       "      <td>14.94</td>\n",
       "      <td>14.25</td>\n",
       "      <td>14.66</td>\n",
       "      <td>10259500</td>\n",
       "      <td>AAL</td>\n",
       "    </tr>\n",
       "    <tr>\n",
       "      <th>4</th>\n",
       "      <td>2013-02-14</td>\n",
       "      <td>14.94</td>\n",
       "      <td>14.96</td>\n",
       "      <td>13.16</td>\n",
       "      <td>13.99</td>\n",
       "      <td>31879900</td>\n",
       "      <td>AAL</td>\n",
       "    </tr>\n",
       "  </tbody>\n",
       "</table>\n",
       "</div>"
      ],
      "text/plain": [
       "         date   open   high    low  close    volume Name\n",
       "0  2013-02-08  15.07  15.12  14.63  14.75   8407500  AAL\n",
       "1  2013-02-11  14.89  15.01  14.26  14.46   8882000  AAL\n",
       "2  2013-02-12  14.45  14.51  14.10  14.27   8126000  AAL\n",
       "3  2013-02-13  14.30  14.94  14.25  14.66  10259500  AAL\n",
       "4  2013-02-14  14.94  14.96  13.16  13.99  31879900  AAL"
      ]
     },
     "execution_count": 4,
     "metadata": {},
     "output_type": "execute_result"
    }
   ],
   "source": [
    "data.head()"
   ]
  },
  {
   "cell_type": "code",
   "execution_count": 130,
   "metadata": {},
   "outputs": [
    {
     "data": {
      "text/html": [
       "<div>\n",
       "<style scoped>\n",
       "    .dataframe tbody tr th:only-of-type {\n",
       "        vertical-align: middle;\n",
       "    }\n",
       "\n",
       "    .dataframe tbody tr th {\n",
       "        vertical-align: top;\n",
       "    }\n",
       "\n",
       "    .dataframe thead th {\n",
       "        text-align: right;\n",
       "    }\n",
       "</style>\n",
       "<table border=\"1\" class=\"dataframe\">\n",
       "  <thead>\n",
       "    <tr style=\"text-align: right;\">\n",
       "      <th></th>\n",
       "      <th>date</th>\n",
       "      <th>open</th>\n",
       "      <th>high</th>\n",
       "      <th>low</th>\n",
       "      <th>close</th>\n",
       "      <th>volume</th>\n",
       "      <th>Name</th>\n",
       "      <th>diff</th>\n",
       "    </tr>\n",
       "  </thead>\n",
       "  <tbody>\n",
       "    <tr>\n",
       "      <th>619035</th>\n",
       "      <td>2018-02-01</td>\n",
       "      <td>76.84</td>\n",
       "      <td>78.27</td>\n",
       "      <td>76.69</td>\n",
       "      <td>77.82</td>\n",
       "      <td>2982259</td>\n",
       "      <td>ZTS</td>\n",
       "      <td>1.58</td>\n",
       "    </tr>\n",
       "    <tr>\n",
       "      <th>619036</th>\n",
       "      <td>2018-02-02</td>\n",
       "      <td>77.53</td>\n",
       "      <td>78.12</td>\n",
       "      <td>76.73</td>\n",
       "      <td>76.78</td>\n",
       "      <td>2595187</td>\n",
       "      <td>ZTS</td>\n",
       "      <td>1.39</td>\n",
       "    </tr>\n",
       "    <tr>\n",
       "      <th>619037</th>\n",
       "      <td>2018-02-05</td>\n",
       "      <td>76.64</td>\n",
       "      <td>76.92</td>\n",
       "      <td>73.18</td>\n",
       "      <td>73.83</td>\n",
       "      <td>2962031</td>\n",
       "      <td>ZTS</td>\n",
       "      <td>3.74</td>\n",
       "    </tr>\n",
       "    <tr>\n",
       "      <th>619038</th>\n",
       "      <td>2018-02-06</td>\n",
       "      <td>72.74</td>\n",
       "      <td>74.56</td>\n",
       "      <td>72.13</td>\n",
       "      <td>73.27</td>\n",
       "      <td>4924323</td>\n",
       "      <td>ZTS</td>\n",
       "      <td>2.43</td>\n",
       "    </tr>\n",
       "    <tr>\n",
       "      <th>619039</th>\n",
       "      <td>2018-02-07</td>\n",
       "      <td>72.70</td>\n",
       "      <td>75.00</td>\n",
       "      <td>72.69</td>\n",
       "      <td>73.86</td>\n",
       "      <td>4534912</td>\n",
       "      <td>ZTS</td>\n",
       "      <td>2.31</td>\n",
       "    </tr>\n",
       "  </tbody>\n",
       "</table>\n",
       "</div>"
      ],
      "text/plain": [
       "              date   open   high    low  close   volume Name  diff\n",
       "619035  2018-02-01  76.84  78.27  76.69  77.82  2982259  ZTS  1.58\n",
       "619036  2018-02-02  77.53  78.12  76.73  76.78  2595187  ZTS  1.39\n",
       "619037  2018-02-05  76.64  76.92  73.18  73.83  2962031  ZTS  3.74\n",
       "619038  2018-02-06  72.74  74.56  72.13  73.27  4924323  ZTS  2.43\n",
       "619039  2018-02-07  72.70  75.00  72.69  73.86  4534912  ZTS  2.31"
      ]
     },
     "execution_count": 130,
     "metadata": {},
     "output_type": "execute_result"
    }
   ],
   "source": [
    "data.tail()"
   ]
  },
  {
   "cell_type": "code",
   "execution_count": 5,
   "metadata": {},
   "outputs": [
    {
     "name": "stdout",
     "output_type": "stream",
     "text": [
      "<class 'pandas.core.frame.DataFrame'>\n",
      "RangeIndex: 619040 entries, 0 to 619039\n",
      "Data columns (total 7 columns):\n",
      " #   Column  Non-Null Count   Dtype  \n",
      "---  ------  --------------   -----  \n",
      " 0   date    619040 non-null  object \n",
      " 1   open    619029 non-null  float64\n",
      " 2   high    619032 non-null  float64\n",
      " 3   low     619032 non-null  float64\n",
      " 4   close   619040 non-null  float64\n",
      " 5   volume  619040 non-null  int64  \n",
      " 6   Name    619040 non-null  object \n",
      "dtypes: float64(4), int64(1), object(2)\n",
      "memory usage: 33.1+ MB\n"
     ]
    }
   ],
   "source": [
    "data.info()"
   ]
  },
  {
   "cell_type": "code",
   "execution_count": 7,
   "metadata": {},
   "outputs": [
    {
     "data": {
      "text/plain": [
       "C       1259\n",
       "TAP     1259\n",
       "PSX     1259\n",
       "FISV    1259\n",
       "EQR     1259\n",
       "        ... \n",
       "DXC      215\n",
       "BHGE     152\n",
       "BHF      143\n",
       "DWDP     109\n",
       "APTV      44\n",
       "Name: Name, Length: 505, dtype: int64"
      ]
     },
     "execution_count": 7,
     "metadata": {},
     "output_type": "execute_result"
    }
   ],
   "source": [
    "data['Name'].value_counts()"
   ]
  },
  {
   "cell_type": "code",
   "execution_count": 129,
   "metadata": {},
   "outputs": [
    {
     "data": {
      "text/plain": [
       "<pymongo.results.InsertManyResult at 0x7f8c94c0c5c0>"
      ]
     },
     "execution_count": 129,
     "metadata": {},
     "output_type": "execute_result"
    }
   ],
   "source": [
    "client =  MongoClient(\"mongodb+srv://ajinkya30:\"+quote('Ajinkya@30')+\"@clusterstock.jw7kb.mongodb.net/DB_Stock?retryWrites=true&w=majority\")\n",
    "db = client['DB_Stock']\n",
    "col = db['Record_Stock']\n",
    "#data.reset_index(inplace=True)\n",
    "data_dict = data.to_dict(\"records\")\n",
    "# Insert collection\n",
    "col.insert_many(data_dict)"
   ]
  },
  {
   "cell_type": "code",
   "execution_count": 70,
   "metadata": {},
   "outputs": [
    {
     "data": {
      "text/plain": [
       "[{'_id': ObjectId('6196af97a87a68a43adef63b'),\n",
       "  'date': '2013-02-08',\n",
       "  'open': 15.07,\n",
       "  'high': 15.12,\n",
       "  'low': 14.63,\n",
       "  'close': 14.75,\n",
       "  'volume': 8407500,\n",
       "  'Name': 'AAL'},\n",
       " {'_id': ObjectId('6196af97a87a68a43adef63c'),\n",
       "  'date': '2013-02-11',\n",
       "  'open': 14.89,\n",
       "  'high': 15.01,\n",
       "  'low': 14.26,\n",
       "  'close': 14.46,\n",
       "  'volume': 8882000,\n",
       "  'Name': 'AAL'},\n",
       " {'_id': ObjectId('6196af97a87a68a43adef63d'),\n",
       "  'date': '2013-02-12',\n",
       "  'open': 14.45,\n",
       "  'high': 14.51,\n",
       "  'low': 14.1,\n",
       "  'close': 14.27,\n",
       "  'volume': 8126000,\n",
       "  'Name': 'AAL'},\n",
       " {'_id': ObjectId('6196af97a87a68a43adef63e'),\n",
       "  'date': '2013-02-13',\n",
       "  'open': 14.3,\n",
       "  'high': 14.94,\n",
       "  'low': 14.25,\n",
       "  'close': 14.66,\n",
       "  'volume': 10259500,\n",
       "  'Name': 'AAL'},\n",
       " {'_id': ObjectId('6196af97a87a68a43adef63f'),\n",
       "  'date': '2013-02-14',\n",
       "  'open': 14.94,\n",
       "  'high': 14.96,\n",
       "  'low': 13.16,\n",
       "  'close': 13.99,\n",
       "  'volume': 31879900,\n",
       "  'Name': 'AAL'},\n",
       " {'_id': ObjectId('6196af97a87a68a43adef640'),\n",
       "  'date': '2013-02-15',\n",
       "  'open': 13.93,\n",
       "  'high': 14.61,\n",
       "  'low': 13.93,\n",
       "  'close': 14.5,\n",
       "  'volume': 15628000,\n",
       "  'Name': 'AAL'},\n",
       " {'_id': ObjectId('6196af97a87a68a43adef641'),\n",
       "  'date': '2013-02-19',\n",
       "  'open': 14.33,\n",
       "  'high': 14.56,\n",
       "  'low': 14.08,\n",
       "  'close': 14.26,\n",
       "  'volume': 11354400,\n",
       "  'Name': 'AAL'},\n",
       " {'_id': ObjectId('6196af97a87a68a43adef642'),\n",
       "  'date': '2013-02-20',\n",
       "  'open': 14.17,\n",
       "  'high': 14.26,\n",
       "  'low': 13.15,\n",
       "  'close': 13.33,\n",
       "  'volume': 14725200,\n",
       "  'Name': 'AAL'},\n",
       " {'_id': ObjectId('6196af97a87a68a43adef643'),\n",
       "  'date': '2013-02-21',\n",
       "  'open': 13.62,\n",
       "  'high': 13.95,\n",
       "  'low': 12.9,\n",
       "  'close': 13.37,\n",
       "  'volume': 11922100,\n",
       "  'Name': 'AAL'},\n",
       " {'_id': ObjectId('6196af97a87a68a43adef644'),\n",
       "  'date': '2013-02-22',\n",
       "  'open': 13.57,\n",
       "  'high': 13.6,\n",
       "  'low': 13.21,\n",
       "  'close': 13.57,\n",
       "  'volume': 6071400,\n",
       "  'Name': 'AAL'}]"
      ]
     },
     "execution_count": 70,
     "metadata": {},
     "output_type": "execute_result"
    }
   ],
   "source": [
    "list(col.find())[:10]"
   ]
  },
  {
   "cell_type": "markdown",
   "metadata": {},
   "source": [
    "**Add new documents, update and delete them** "
   ]
  },
  {
   "cell_type": "code",
   "execution_count": 111,
   "metadata": {},
   "outputs": [],
   "source": [
    "client =  MongoClient(\"mongodb+srv://ajinkya30:\"+quote('Ajinkya@30')+\"@clusterstock.jw7kb.mongodb.net/DB_Stock?retryWrites=true&w=majority\")\n",
    "db = client['DB_Stock']\n",
    "col = db['Record_Stock']"
   ]
  },
  {
   "cell_type": "code",
   "execution_count": 39,
   "metadata": {},
   "outputs": [
    {
     "data": {
      "text/plain": [
       "Collection(Database(MongoClient(host=['clusterstock-shard-00-02.jw7kb.mongodb.net:27017', 'clusterstock-shard-00-01.jw7kb.mongodb.net:27017', 'clusterstock-shard-00-00.jw7kb.mongodb.net:27017'], document_class=dict, tz_aware=False, connect=True, retrywrites=True, w='majority', authsource='admin', replicaset='atlas-13yk0z-shard-0', ssl=True), 'DB_STOCKAPI'), 'DB_STOCKAPI')"
      ]
     },
     "execution_count": 39,
     "metadata": {},
     "output_type": "execute_result"
    }
   ],
   "source": [
    "col"
   ]
  },
  {
   "cell_type": "code",
   "execution_count": 40,
   "metadata": {},
   "outputs": [
    {
     "data": {
      "text/plain": [
       "['DB_STOCKAPI', 'DB_Stock', 'admin', 'local']"
      ]
     },
     "execution_count": 40,
     "metadata": {},
     "output_type": "execute_result"
    }
   ],
   "source": [
    "client.list_database_names()"
   ]
  },
  {
   "cell_type": "code",
   "execution_count": 44,
   "metadata": {},
   "outputs": [],
   "source": [
    "lis = [{'date':\"2013-02-08\",'open':15.07,'high':15.12,'low':14.63,'close':14.75,'volume':8407500,'Name':\"AJN\"},\n",
    "      {'date':\"2013-02-09\",'open':16.07,'high':18.52,'low':12.83,'close':14.21,'volume':4404800,'Name':\"AJN\"}]"
   ]
  },
  {
   "cell_type": "code",
   "execution_count": 41,
   "metadata": {},
   "outputs": [],
   "source": [
    "x = col.insert_many(lis)\n",
    "print(x)"
   ]
  },
  {
   "cell_type": "code",
   "execution_count": 47,
   "metadata": {},
   "outputs": [],
   "source": [
    "dic = {'date':\"2013-02-09\",'open':16.07,'high':18.52,'low':12.83,'close':14.21,'volume':4404800,'Name':\"AJN\"}"
   ]
  },
  {
   "cell_type": "code",
   "execution_count": 48,
   "metadata": {},
   "outputs": [
    {
     "name": "stdout",
     "output_type": "stream",
     "text": [
      "<pymongo.results.DeleteResult object at 0x7f8d30456880>\n"
     ]
    }
   ],
   "source": [
    "y = col.delete_one(dic)\n",
    "print(y)"
   ]
  },
  {
   "cell_type": "code",
   "execution_count": 95,
   "metadata": {},
   "outputs": [],
   "source": [
    "record_update = {\n",
    "   'date': '2013-02-08',\n",
    "    'Name' : 'AAL'\n",
    "}"
   ]
  },
  {
   "cell_type": "code",
   "execution_count": 98,
   "metadata": {
    "scrolled": true
   },
   "outputs": [
    {
     "data": {
      "text/plain": [
       "<pymongo.results.UpdateResult at 0x7f8c62bb6bc0>"
      ]
     },
     "execution_count": 98,
     "metadata": {},
     "output_type": "execute_result"
    }
   ],
   "source": [
    "col.update_one({'open':15.09},{'$set':record_update})"
   ]
  },
  {
   "cell_type": "code",
   "execution_count": 99,
   "metadata": {},
   "outputs": [
    {
     "data": {
      "text/plain": [
       "<pymongo.results.UpdateResult at 0x7f8c636143c0>"
      ]
     },
     "execution_count": 99,
     "metadata": {},
     "output_type": "execute_result"
    }
   ],
   "source": [
    "col.update_one({'close':14.46},{'$set':record_update})"
   ]
  },
  {
   "cell_type": "markdown",
   "metadata": {},
   "source": [
    "**Add a new field to all the documents**"
   ]
  },
  {
   "cell_type": "code",
   "execution_count": 124,
   "metadata": {},
   "outputs": [],
   "source": [
    "data['diff'] = data['high'] - data['low']"
   ]
  },
  {
   "cell_type": "code",
   "execution_count": 125,
   "metadata": {},
   "outputs": [],
   "source": [
    "diff = data['diff'].tolist()"
   ]
  },
  {
   "cell_type": "code",
   "execution_count": 128,
   "metadata": {},
   "outputs": [
    {
     "name": "stderr",
     "output_type": "stream",
     "text": [
      "<ipython-input-128-80ec125eeb53>:1: DeprecationWarning: update is deprecated. Use replace_one, update_one or update_many instead.\n",
      "  col.update({},{'$set' : {\"high-low\": diff}})\n"
     ]
    },
    {
     "data": {
      "text/plain": [
       "{'n': 1,\n",
       " 'nModified': 1,\n",
       " 'opTime': {'ts': Timestamp(1637269630, 8), 't': 217},\n",
       " 'electionId': ObjectId('7fffffff00000000000000d9'),\n",
       " 'ok': 1.0,\n",
       " '$clusterTime': {'clusterTime': Timestamp(1637269630, 10),\n",
       "  'signature': {'hash': b'\\xb5f\\t\\xfe\\xd3\\xd0\\xd5n\\xd1\\xd9\\xa8\\x15\\xef<\\xb9+\\xc1\\xe3}\\xa2',\n",
       "   'keyId': 6993535964366766082}},\n",
       " 'operationTime': Timestamp(1637269630, 8),\n",
       " 'updatedExisting': True}"
      ]
     },
     "execution_count": 128,
     "metadata": {},
     "output_type": "execute_result"
    }
   ],
   "source": [
    "col.update({},{'$set' : {\"high-low\": diff}},False,True) "
   ]
  },
  {
   "cell_type": "markdown",
   "metadata": {},
   "source": [
    "**Creating 5 Dbs for FANG stocks**"
   ]
  },
  {
   "cell_type": "code",
   "execution_count": 165,
   "metadata": {},
   "outputs": [],
   "source": [
    "data_fb = data[data['Name']=='FB']"
   ]
  },
  {
   "cell_type": "code",
   "execution_count": 166,
   "metadata": {},
   "outputs": [],
   "source": [
    "data_fb = data_fb.reset_index(drop=True)"
   ]
  },
  {
   "cell_type": "code",
   "execution_count": 167,
   "metadata": {
    "scrolled": true
   },
   "outputs": [
    {
     "data": {
      "text/html": [
       "<div>\n",
       "<style scoped>\n",
       "    .dataframe tbody tr th:only-of-type {\n",
       "        vertical-align: middle;\n",
       "    }\n",
       "\n",
       "    .dataframe tbody tr th {\n",
       "        vertical-align: top;\n",
       "    }\n",
       "\n",
       "    .dataframe thead th {\n",
       "        text-align: right;\n",
       "    }\n",
       "</style>\n",
       "<table border=\"1\" class=\"dataframe\">\n",
       "  <thead>\n",
       "    <tr style=\"text-align: right;\">\n",
       "      <th></th>\n",
       "      <th>date</th>\n",
       "      <th>open</th>\n",
       "      <th>high</th>\n",
       "      <th>low</th>\n",
       "      <th>close</th>\n",
       "      <th>volume</th>\n",
       "      <th>Name</th>\n",
       "      <th>diff</th>\n",
       "    </tr>\n",
       "  </thead>\n",
       "  <tbody>\n",
       "    <tr>\n",
       "      <th>0</th>\n",
       "      <td>2013-02-08</td>\n",
       "      <td>28.89</td>\n",
       "      <td>29.1700</td>\n",
       "      <td>28.51</td>\n",
       "      <td>28.5450</td>\n",
       "      <td>37662614</td>\n",
       "      <td>FB</td>\n",
       "      <td>0.6600</td>\n",
       "    </tr>\n",
       "    <tr>\n",
       "      <th>1</th>\n",
       "      <td>2013-02-11</td>\n",
       "      <td>28.61</td>\n",
       "      <td>28.6800</td>\n",
       "      <td>28.04</td>\n",
       "      <td>28.2600</td>\n",
       "      <td>36979533</td>\n",
       "      <td>FB</td>\n",
       "      <td>0.6400</td>\n",
       "    </tr>\n",
       "    <tr>\n",
       "      <th>2</th>\n",
       "      <td>2013-02-12</td>\n",
       "      <td>27.67</td>\n",
       "      <td>28.1600</td>\n",
       "      <td>27.10</td>\n",
       "      <td>27.3700</td>\n",
       "      <td>93417215</td>\n",
       "      <td>FB</td>\n",
       "      <td>1.0600</td>\n",
       "    </tr>\n",
       "    <tr>\n",
       "      <th>3</th>\n",
       "      <td>2013-02-13</td>\n",
       "      <td>27.36</td>\n",
       "      <td>28.3200</td>\n",
       "      <td>27.31</td>\n",
       "      <td>27.9075</td>\n",
       "      <td>50100805</td>\n",
       "      <td>FB</td>\n",
       "      <td>1.0100</td>\n",
       "    </tr>\n",
       "    <tr>\n",
       "      <th>4</th>\n",
       "      <td>2013-02-14</td>\n",
       "      <td>28.02</td>\n",
       "      <td>28.6300</td>\n",
       "      <td>28.01</td>\n",
       "      <td>28.5000</td>\n",
       "      <td>35581045</td>\n",
       "      <td>FB</td>\n",
       "      <td>0.6200</td>\n",
       "    </tr>\n",
       "    <tr>\n",
       "      <th>...</th>\n",
       "      <td>...</td>\n",
       "      <td>...</td>\n",
       "      <td>...</td>\n",
       "      <td>...</td>\n",
       "      <td>...</td>\n",
       "      <td>...</td>\n",
       "      <td>...</td>\n",
       "      <td>...</td>\n",
       "    </tr>\n",
       "    <tr>\n",
       "      <th>1254</th>\n",
       "      <td>2018-02-01</td>\n",
       "      <td>188.22</td>\n",
       "      <td>195.3200</td>\n",
       "      <td>187.89</td>\n",
       "      <td>193.0900</td>\n",
       "      <td>54211293</td>\n",
       "      <td>FB</td>\n",
       "      <td>7.4300</td>\n",
       "    </tr>\n",
       "    <tr>\n",
       "      <th>1255</th>\n",
       "      <td>2018-02-02</td>\n",
       "      <td>192.04</td>\n",
       "      <td>194.2100</td>\n",
       "      <td>189.98</td>\n",
       "      <td>190.2800</td>\n",
       "      <td>26677484</td>\n",
       "      <td>FB</td>\n",
       "      <td>4.2300</td>\n",
       "    </tr>\n",
       "    <tr>\n",
       "      <th>1256</th>\n",
       "      <td>2018-02-05</td>\n",
       "      <td>186.93</td>\n",
       "      <td>190.6100</td>\n",
       "      <td>180.61</td>\n",
       "      <td>181.2600</td>\n",
       "      <td>33128206</td>\n",
       "      <td>FB</td>\n",
       "      <td>10.0000</td>\n",
       "    </tr>\n",
       "    <tr>\n",
       "      <th>1257</th>\n",
       "      <td>2018-02-06</td>\n",
       "      <td>178.57</td>\n",
       "      <td>185.7700</td>\n",
       "      <td>177.74</td>\n",
       "      <td>185.3100</td>\n",
       "      <td>37758505</td>\n",
       "      <td>FB</td>\n",
       "      <td>8.0300</td>\n",
       "    </tr>\n",
       "    <tr>\n",
       "      <th>1258</th>\n",
       "      <td>2018-02-07</td>\n",
       "      <td>184.15</td>\n",
       "      <td>185.0817</td>\n",
       "      <td>179.95</td>\n",
       "      <td>180.1800</td>\n",
       "      <td>27601886</td>\n",
       "      <td>FB</td>\n",
       "      <td>5.1317</td>\n",
       "    </tr>\n",
       "  </tbody>\n",
       "</table>\n",
       "<p>1259 rows × 8 columns</p>\n",
       "</div>"
      ],
      "text/plain": [
       "            date    open      high     low     close    volume Name     diff\n",
       "0     2013-02-08   28.89   29.1700   28.51   28.5450  37662614   FB   0.6600\n",
       "1     2013-02-11   28.61   28.6800   28.04   28.2600  36979533   FB   0.6400\n",
       "2     2013-02-12   27.67   28.1600   27.10   27.3700  93417215   FB   1.0600\n",
       "3     2013-02-13   27.36   28.3200   27.31   27.9075  50100805   FB   1.0100\n",
       "4     2013-02-14   28.02   28.6300   28.01   28.5000  35581045   FB   0.6200\n",
       "...          ...     ...       ...     ...       ...       ...  ...      ...\n",
       "1254  2018-02-01  188.22  195.3200  187.89  193.0900  54211293   FB   7.4300\n",
       "1255  2018-02-02  192.04  194.2100  189.98  190.2800  26677484   FB   4.2300\n",
       "1256  2018-02-05  186.93  190.6100  180.61  181.2600  33128206   FB  10.0000\n",
       "1257  2018-02-06  178.57  185.7700  177.74  185.3100  37758505   FB   8.0300\n",
       "1258  2018-02-07  184.15  185.0817  179.95  180.1800  27601886   FB   5.1317\n",
       "\n",
       "[1259 rows x 8 columns]"
      ]
     },
     "execution_count": 167,
     "metadata": {},
     "output_type": "execute_result"
    }
   ],
   "source": [
    "data_fb"
   ]
  },
  {
   "cell_type": "code",
   "execution_count": 168,
   "metadata": {},
   "outputs": [
    {
     "data": {
      "text/plain": [
       "<pymongo.results.InsertManyResult at 0x7f8c4610ce40>"
      ]
     },
     "execution_count": 168,
     "metadata": {},
     "output_type": "execute_result"
    }
   ],
   "source": [
    "client =  MongoClient(\"mongodb+srv://ajinkya30:\"+quote('Ajinkya@30')+\"@clusterstock.jw7kb.mongodb.net/DB_Stock?retryWrites=true&w=majority\")\n",
    "db_fb = client['DB_Stock_FB']\n",
    "col_fb = db_fb['Record_Stock_FB']\n",
    "\n",
    "data_dict = data_fb.to_dict(\"records\")\n",
    "col_fb.insert_many(data_dict)"
   ]
  },
  {
   "cell_type": "code",
   "execution_count": 169,
   "metadata": {},
   "outputs": [],
   "source": [
    "data_apl = data[data['Name']=='AAPL']"
   ]
  },
  {
   "cell_type": "code",
   "execution_count": 170,
   "metadata": {},
   "outputs": [],
   "source": [
    "data_apl = data_apl.reset_index(drop=True)"
   ]
  },
  {
   "cell_type": "code",
   "execution_count": 171,
   "metadata": {
    "scrolled": true
   },
   "outputs": [
    {
     "data": {
      "text/html": [
       "<div>\n",
       "<style scoped>\n",
       "    .dataframe tbody tr th:only-of-type {\n",
       "        vertical-align: middle;\n",
       "    }\n",
       "\n",
       "    .dataframe tbody tr th {\n",
       "        vertical-align: top;\n",
       "    }\n",
       "\n",
       "    .dataframe thead th {\n",
       "        text-align: right;\n",
       "    }\n",
       "</style>\n",
       "<table border=\"1\" class=\"dataframe\">\n",
       "  <thead>\n",
       "    <tr style=\"text-align: right;\">\n",
       "      <th></th>\n",
       "      <th>date</th>\n",
       "      <th>open</th>\n",
       "      <th>high</th>\n",
       "      <th>low</th>\n",
       "      <th>close</th>\n",
       "      <th>volume</th>\n",
       "      <th>Name</th>\n",
       "      <th>diff</th>\n",
       "    </tr>\n",
       "  </thead>\n",
       "  <tbody>\n",
       "    <tr>\n",
       "      <th>0</th>\n",
       "      <td>2013-02-08</td>\n",
       "      <td>67.7142</td>\n",
       "      <td>68.4014</td>\n",
       "      <td>66.8928</td>\n",
       "      <td>67.8542</td>\n",
       "      <td>158168416</td>\n",
       "      <td>AAPL</td>\n",
       "      <td>1.5086</td>\n",
       "    </tr>\n",
       "    <tr>\n",
       "      <th>1</th>\n",
       "      <td>2013-02-11</td>\n",
       "      <td>68.0714</td>\n",
       "      <td>69.2771</td>\n",
       "      <td>67.6071</td>\n",
       "      <td>68.5614</td>\n",
       "      <td>129029425</td>\n",
       "      <td>AAPL</td>\n",
       "      <td>1.6700</td>\n",
       "    </tr>\n",
       "    <tr>\n",
       "      <th>2</th>\n",
       "      <td>2013-02-12</td>\n",
       "      <td>68.5014</td>\n",
       "      <td>68.9114</td>\n",
       "      <td>66.8205</td>\n",
       "      <td>66.8428</td>\n",
       "      <td>151829363</td>\n",
       "      <td>AAPL</td>\n",
       "      <td>2.0909</td>\n",
       "    </tr>\n",
       "    <tr>\n",
       "      <th>3</th>\n",
       "      <td>2013-02-13</td>\n",
       "      <td>66.7442</td>\n",
       "      <td>67.6628</td>\n",
       "      <td>66.1742</td>\n",
       "      <td>66.7156</td>\n",
       "      <td>118721995</td>\n",
       "      <td>AAPL</td>\n",
       "      <td>1.4886</td>\n",
       "    </tr>\n",
       "    <tr>\n",
       "      <th>4</th>\n",
       "      <td>2013-02-14</td>\n",
       "      <td>66.3599</td>\n",
       "      <td>67.3771</td>\n",
       "      <td>66.2885</td>\n",
       "      <td>66.6556</td>\n",
       "      <td>88809154</td>\n",
       "      <td>AAPL</td>\n",
       "      <td>1.0886</td>\n",
       "    </tr>\n",
       "    <tr>\n",
       "      <th>...</th>\n",
       "      <td>...</td>\n",
       "      <td>...</td>\n",
       "      <td>...</td>\n",
       "      <td>...</td>\n",
       "      <td>...</td>\n",
       "      <td>...</td>\n",
       "      <td>...</td>\n",
       "      <td>...</td>\n",
       "    </tr>\n",
       "    <tr>\n",
       "      <th>1254</th>\n",
       "      <td>2018-02-01</td>\n",
       "      <td>167.1650</td>\n",
       "      <td>168.6200</td>\n",
       "      <td>166.7600</td>\n",
       "      <td>167.7800</td>\n",
       "      <td>47230787</td>\n",
       "      <td>AAPL</td>\n",
       "      <td>1.8600</td>\n",
       "    </tr>\n",
       "    <tr>\n",
       "      <th>1255</th>\n",
       "      <td>2018-02-02</td>\n",
       "      <td>166.0000</td>\n",
       "      <td>166.8000</td>\n",
       "      <td>160.1000</td>\n",
       "      <td>160.5000</td>\n",
       "      <td>86593825</td>\n",
       "      <td>AAPL</td>\n",
       "      <td>6.7000</td>\n",
       "    </tr>\n",
       "    <tr>\n",
       "      <th>1256</th>\n",
       "      <td>2018-02-05</td>\n",
       "      <td>159.1000</td>\n",
       "      <td>163.8800</td>\n",
       "      <td>156.0000</td>\n",
       "      <td>156.4900</td>\n",
       "      <td>72738522</td>\n",
       "      <td>AAPL</td>\n",
       "      <td>7.8800</td>\n",
       "    </tr>\n",
       "    <tr>\n",
       "      <th>1257</th>\n",
       "      <td>2018-02-06</td>\n",
       "      <td>154.8300</td>\n",
       "      <td>163.7200</td>\n",
       "      <td>154.0000</td>\n",
       "      <td>163.0300</td>\n",
       "      <td>68243838</td>\n",
       "      <td>AAPL</td>\n",
       "      <td>9.7200</td>\n",
       "    </tr>\n",
       "    <tr>\n",
       "      <th>1258</th>\n",
       "      <td>2018-02-07</td>\n",
       "      <td>163.0850</td>\n",
       "      <td>163.4000</td>\n",
       "      <td>159.0685</td>\n",
       "      <td>159.5400</td>\n",
       "      <td>51608580</td>\n",
       "      <td>AAPL</td>\n",
       "      <td>4.3315</td>\n",
       "    </tr>\n",
       "  </tbody>\n",
       "</table>\n",
       "<p>1259 rows × 8 columns</p>\n",
       "</div>"
      ],
      "text/plain": [
       "            date      open      high       low     close     volume  Name  \\\n",
       "0     2013-02-08   67.7142   68.4014   66.8928   67.8542  158168416  AAPL   \n",
       "1     2013-02-11   68.0714   69.2771   67.6071   68.5614  129029425  AAPL   \n",
       "2     2013-02-12   68.5014   68.9114   66.8205   66.8428  151829363  AAPL   \n",
       "3     2013-02-13   66.7442   67.6628   66.1742   66.7156  118721995  AAPL   \n",
       "4     2013-02-14   66.3599   67.3771   66.2885   66.6556   88809154  AAPL   \n",
       "...          ...       ...       ...       ...       ...        ...   ...   \n",
       "1254  2018-02-01  167.1650  168.6200  166.7600  167.7800   47230787  AAPL   \n",
       "1255  2018-02-02  166.0000  166.8000  160.1000  160.5000   86593825  AAPL   \n",
       "1256  2018-02-05  159.1000  163.8800  156.0000  156.4900   72738522  AAPL   \n",
       "1257  2018-02-06  154.8300  163.7200  154.0000  163.0300   68243838  AAPL   \n",
       "1258  2018-02-07  163.0850  163.4000  159.0685  159.5400   51608580  AAPL   \n",
       "\n",
       "        diff  \n",
       "0     1.5086  \n",
       "1     1.6700  \n",
       "2     2.0909  \n",
       "3     1.4886  \n",
       "4     1.0886  \n",
       "...      ...  \n",
       "1254  1.8600  \n",
       "1255  6.7000  \n",
       "1256  7.8800  \n",
       "1257  9.7200  \n",
       "1258  4.3315  \n",
       "\n",
       "[1259 rows x 8 columns]"
      ]
     },
     "execution_count": 171,
     "metadata": {},
     "output_type": "execute_result"
    }
   ],
   "source": [
    "data_apl"
   ]
  },
  {
   "cell_type": "code",
   "execution_count": 172,
   "metadata": {},
   "outputs": [
    {
     "data": {
      "text/plain": [
       "<pymongo.results.InsertManyResult at 0x7f8c376b2200>"
      ]
     },
     "execution_count": 172,
     "metadata": {},
     "output_type": "execute_result"
    }
   ],
   "source": [
    "client =  MongoClient(\"mongodb+srv://ajinkya30:\"+quote('Ajinkya@30')+\"@clusterstock.jw7kb.mongodb.net/DB_Stock?retryWrites=true&w=majority\")\n",
    "db_appl = client['DB_Stock_Apple']\n",
    "col_appl = db_appl['Record_Stock_Apple']\n",
    "\n",
    "data_dict = data_apl.to_dict(\"records\")\n",
    "col_appl.insert_many(data_dict)"
   ]
  },
  {
   "cell_type": "code",
   "execution_count": 173,
   "metadata": {
    "scrolled": true
   },
   "outputs": [
    {
     "data": {
      "text/html": [
       "<div>\n",
       "<style scoped>\n",
       "    .dataframe tbody tr th:only-of-type {\n",
       "        vertical-align: middle;\n",
       "    }\n",
       "\n",
       "    .dataframe tbody tr th {\n",
       "        vertical-align: top;\n",
       "    }\n",
       "\n",
       "    .dataframe thead th {\n",
       "        text-align: right;\n",
       "    }\n",
       "</style>\n",
       "<table border=\"1\" class=\"dataframe\">\n",
       "  <thead>\n",
       "    <tr style=\"text-align: right;\">\n",
       "      <th></th>\n",
       "      <th>date</th>\n",
       "      <th>open</th>\n",
       "      <th>high</th>\n",
       "      <th>low</th>\n",
       "      <th>close</th>\n",
       "      <th>volume</th>\n",
       "      <th>Name</th>\n",
       "      <th>diff</th>\n",
       "    </tr>\n",
       "  </thead>\n",
       "  <tbody>\n",
       "    <tr>\n",
       "      <th>0</th>\n",
       "      <td>2013-02-08</td>\n",
       "      <td>25.9635</td>\n",
       "      <td>26.2800</td>\n",
       "      <td>25.7157</td>\n",
       "      <td>25.8528</td>\n",
       "      <td>25649820</td>\n",
       "      <td>NFLX</td>\n",
       "      <td>0.5643</td>\n",
       "    </tr>\n",
       "    <tr>\n",
       "      <th>1</th>\n",
       "      <td>2013-02-11</td>\n",
       "      <td>25.5685</td>\n",
       "      <td>26.0071</td>\n",
       "      <td>24.9714</td>\n",
       "      <td>25.4128</td>\n",
       "      <td>29321782</td>\n",
       "      <td>NFLX</td>\n",
       "      <td>1.0357</td>\n",
       "    </tr>\n",
       "    <tr>\n",
       "      <th>2</th>\n",
       "      <td>2013-02-12</td>\n",
       "      <td>25.8085</td>\n",
       "      <td>26.2228</td>\n",
       "      <td>25.1014</td>\n",
       "      <td>25.4214</td>\n",
       "      <td>34388802</td>\n",
       "      <td>NFLX</td>\n",
       "      <td>1.1214</td>\n",
       "    </tr>\n",
       "    <tr>\n",
       "      <th>3</th>\n",
       "      <td>2013-02-13</td>\n",
       "      <td>25.8428</td>\n",
       "      <td>26.6285</td>\n",
       "      <td>25.6657</td>\n",
       "      <td>26.6098</td>\n",
       "      <td>40799094</td>\n",
       "      <td>NFLX</td>\n",
       "      <td>0.9628</td>\n",
       "    </tr>\n",
       "    <tr>\n",
       "      <th>4</th>\n",
       "      <td>2013-02-14</td>\n",
       "      <td>26.7557</td>\n",
       "      <td>27.1214</td>\n",
       "      <td>26.3844</td>\n",
       "      <td>26.7714</td>\n",
       "      <td>31968685</td>\n",
       "      <td>NFLX</td>\n",
       "      <td>0.7370</td>\n",
       "    </tr>\n",
       "    <tr>\n",
       "      <th>...</th>\n",
       "      <td>...</td>\n",
       "      <td>...</td>\n",
       "      <td>...</td>\n",
       "      <td>...</td>\n",
       "      <td>...</td>\n",
       "      <td>...</td>\n",
       "      <td>...</td>\n",
       "      <td>...</td>\n",
       "    </tr>\n",
       "    <tr>\n",
       "      <th>1254</th>\n",
       "      <td>2018-02-01</td>\n",
       "      <td>266.4100</td>\n",
       "      <td>271.9500</td>\n",
       "      <td>263.3800</td>\n",
       "      <td>265.0700</td>\n",
       "      <td>9669011</td>\n",
       "      <td>NFLX</td>\n",
       "      <td>8.5700</td>\n",
       "    </tr>\n",
       "    <tr>\n",
       "      <th>1255</th>\n",
       "      <td>2018-02-02</td>\n",
       "      <td>263.0000</td>\n",
       "      <td>270.6200</td>\n",
       "      <td>262.7100</td>\n",
       "      <td>267.4300</td>\n",
       "      <td>9123610</td>\n",
       "      <td>NFLX</td>\n",
       "      <td>7.9100</td>\n",
       "    </tr>\n",
       "    <tr>\n",
       "      <th>1256</th>\n",
       "      <td>2018-02-05</td>\n",
       "      <td>262.0000</td>\n",
       "      <td>267.8990</td>\n",
       "      <td>250.0300</td>\n",
       "      <td>254.2600</td>\n",
       "      <td>11896053</td>\n",
       "      <td>NFLX</td>\n",
       "      <td>17.8690</td>\n",
       "    </tr>\n",
       "    <tr>\n",
       "      <th>1257</th>\n",
       "      <td>2018-02-06</td>\n",
       "      <td>247.7000</td>\n",
       "      <td>266.7000</td>\n",
       "      <td>245.0000</td>\n",
       "      <td>265.7200</td>\n",
       "      <td>12595801</td>\n",
       "      <td>NFLX</td>\n",
       "      <td>21.7000</td>\n",
       "    </tr>\n",
       "    <tr>\n",
       "      <th>1258</th>\n",
       "      <td>2018-02-07</td>\n",
       "      <td>266.5800</td>\n",
       "      <td>272.4500</td>\n",
       "      <td>264.3250</td>\n",
       "      <td>264.5600</td>\n",
       "      <td>8981548</td>\n",
       "      <td>NFLX</td>\n",
       "      <td>8.1250</td>\n",
       "    </tr>\n",
       "  </tbody>\n",
       "</table>\n",
       "<p>1259 rows × 8 columns</p>\n",
       "</div>"
      ],
      "text/plain": [
       "            date      open      high       low     close    volume  Name  \\\n",
       "0     2013-02-08   25.9635   26.2800   25.7157   25.8528  25649820  NFLX   \n",
       "1     2013-02-11   25.5685   26.0071   24.9714   25.4128  29321782  NFLX   \n",
       "2     2013-02-12   25.8085   26.2228   25.1014   25.4214  34388802  NFLX   \n",
       "3     2013-02-13   25.8428   26.6285   25.6657   26.6098  40799094  NFLX   \n",
       "4     2013-02-14   26.7557   27.1214   26.3844   26.7714  31968685  NFLX   \n",
       "...          ...       ...       ...       ...       ...       ...   ...   \n",
       "1254  2018-02-01  266.4100  271.9500  263.3800  265.0700   9669011  NFLX   \n",
       "1255  2018-02-02  263.0000  270.6200  262.7100  267.4300   9123610  NFLX   \n",
       "1256  2018-02-05  262.0000  267.8990  250.0300  254.2600  11896053  NFLX   \n",
       "1257  2018-02-06  247.7000  266.7000  245.0000  265.7200  12595801  NFLX   \n",
       "1258  2018-02-07  266.5800  272.4500  264.3250  264.5600   8981548  NFLX   \n",
       "\n",
       "         diff  \n",
       "0      0.5643  \n",
       "1      1.0357  \n",
       "2      1.1214  \n",
       "3      0.9628  \n",
       "4      0.7370  \n",
       "...       ...  \n",
       "1254   8.5700  \n",
       "1255   7.9100  \n",
       "1256  17.8690  \n",
       "1257  21.7000  \n",
       "1258   8.1250  \n",
       "\n",
       "[1259 rows x 8 columns]"
      ]
     },
     "execution_count": 173,
     "metadata": {},
     "output_type": "execute_result"
    }
   ],
   "source": [
    "data_nflx = data[data['Name']=='NFLX']\n",
    "\n",
    "data_nflx = data_nflx.reset_index(drop=True)\n",
    "\n",
    "data_nflx"
   ]
  },
  {
   "cell_type": "code",
   "execution_count": 175,
   "metadata": {},
   "outputs": [
    {
     "data": {
      "text/plain": [
       "<pymongo.results.InsertManyResult at 0x7f8c567e2600>"
      ]
     },
     "execution_count": 175,
     "metadata": {},
     "output_type": "execute_result"
    }
   ],
   "source": [
    "client =  MongoClient(\"mongodb+srv://ajinkya30:\"+quote('Ajinkya@30')+\"@clusterstock.jw7kb.mongodb.net/DB_Stock?retryWrites=true&w=majority\")\n",
    "db_netflx = client['DB_Stock_Netflix']\n",
    "col_netflx = db_netflx['Record_Stock_Netflix']\n",
    "\n",
    "data_dict = data_nflx.to_dict(\"records\")\n",
    "col_netflx.insert_many(data_dict)"
   ]
  },
  {
   "cell_type": "code",
   "execution_count": 176,
   "metadata": {},
   "outputs": [
    {
     "data": {
      "text/html": [
       "<div>\n",
       "<style scoped>\n",
       "    .dataframe tbody tr th:only-of-type {\n",
       "        vertical-align: middle;\n",
       "    }\n",
       "\n",
       "    .dataframe tbody tr th {\n",
       "        vertical-align: top;\n",
       "    }\n",
       "\n",
       "    .dataframe thead th {\n",
       "        text-align: right;\n",
       "    }\n",
       "</style>\n",
       "<table border=\"1\" class=\"dataframe\">\n",
       "  <thead>\n",
       "    <tr style=\"text-align: right;\">\n",
       "      <th></th>\n",
       "      <th>date</th>\n",
       "      <th>open</th>\n",
       "      <th>high</th>\n",
       "      <th>low</th>\n",
       "      <th>close</th>\n",
       "      <th>volume</th>\n",
       "      <th>Name</th>\n",
       "      <th>diff</th>\n",
       "    </tr>\n",
       "  </thead>\n",
       "  <tbody>\n",
       "    <tr>\n",
       "      <th>0</th>\n",
       "      <td>2013-02-08</td>\n",
       "      <td>390.4551</td>\n",
       "      <td>393.7283</td>\n",
       "      <td>390.1698</td>\n",
       "      <td>393.0777</td>\n",
       "      <td>6031199</td>\n",
       "      <td>GOOGL</td>\n",
       "      <td>3.5585</td>\n",
       "    </tr>\n",
       "    <tr>\n",
       "      <th>1</th>\n",
       "      <td>2013-02-11</td>\n",
       "      <td>389.5892</td>\n",
       "      <td>391.8915</td>\n",
       "      <td>387.2619</td>\n",
       "      <td>391.6012</td>\n",
       "      <td>4330781</td>\n",
       "      <td>GOOGL</td>\n",
       "      <td>4.6296</td>\n",
       "    </tr>\n",
       "    <tr>\n",
       "      <th>2</th>\n",
       "      <td>2013-02-12</td>\n",
       "      <td>391.2659</td>\n",
       "      <td>394.3440</td>\n",
       "      <td>390.0747</td>\n",
       "      <td>390.7403</td>\n",
       "      <td>3714176</td>\n",
       "      <td>GOOGL</td>\n",
       "      <td>4.2693</td>\n",
       "    </tr>\n",
       "    <tr>\n",
       "      <th>3</th>\n",
       "      <td>2013-02-13</td>\n",
       "      <td>390.4551</td>\n",
       "      <td>393.0677</td>\n",
       "      <td>390.3750</td>\n",
       "      <td>391.8214</td>\n",
       "      <td>2393946</td>\n",
       "      <td>GOOGL</td>\n",
       "      <td>2.6927</td>\n",
       "    </tr>\n",
       "    <tr>\n",
       "      <th>4</th>\n",
       "      <td>2013-02-14</td>\n",
       "      <td>390.2549</td>\n",
       "      <td>394.7644</td>\n",
       "      <td>389.2739</td>\n",
       "      <td>394.3039</td>\n",
       "      <td>3466971</td>\n",
       "      <td>GOOGL</td>\n",
       "      <td>5.4905</td>\n",
       "    </tr>\n",
       "    <tr>\n",
       "      <th>...</th>\n",
       "      <td>...</td>\n",
       "      <td>...</td>\n",
       "      <td>...</td>\n",
       "      <td>...</td>\n",
       "      <td>...</td>\n",
       "      <td>...</td>\n",
       "      <td>...</td>\n",
       "      <td>...</td>\n",
       "    </tr>\n",
       "    <tr>\n",
       "      <th>1254</th>\n",
       "      <td>2018-02-01</td>\n",
       "      <td>1175.9900</td>\n",
       "      <td>1187.4500</td>\n",
       "      <td>1169.3600</td>\n",
       "      <td>1181.5900</td>\n",
       "      <td>3675709</td>\n",
       "      <td>GOOGL</td>\n",
       "      <td>18.0900</td>\n",
       "    </tr>\n",
       "    <tr>\n",
       "      <th>1255</th>\n",
       "      <td>2018-02-02</td>\n",
       "      <td>1127.4200</td>\n",
       "      <td>1131.3000</td>\n",
       "      <td>1111.1700</td>\n",
       "      <td>1119.2000</td>\n",
       "      <td>5892122</td>\n",
       "      <td>GOOGL</td>\n",
       "      <td>20.1300</td>\n",
       "    </tr>\n",
       "    <tr>\n",
       "      <th>1256</th>\n",
       "      <td>2018-02-05</td>\n",
       "      <td>1100.6100</td>\n",
       "      <td>1114.9900</td>\n",
       "      <td>1056.7400</td>\n",
       "      <td>1062.3900</td>\n",
       "      <td>4177469</td>\n",
       "      <td>GOOGL</td>\n",
       "      <td>58.2500</td>\n",
       "    </tr>\n",
       "    <tr>\n",
       "      <th>1257</th>\n",
       "      <td>2018-02-06</td>\n",
       "      <td>1033.9800</td>\n",
       "      <td>1087.3800</td>\n",
       "      <td>1030.0100</td>\n",
       "      <td>1084.4300</td>\n",
       "      <td>3831524</td>\n",
       "      <td>GOOGL</td>\n",
       "      <td>57.3700</td>\n",
       "    </tr>\n",
       "    <tr>\n",
       "      <th>1258</th>\n",
       "      <td>2018-02-07</td>\n",
       "      <td>1084.9700</td>\n",
       "      <td>1086.5300</td>\n",
       "      <td>1054.6200</td>\n",
       "      <td>1055.4100</td>\n",
       "      <td>2597094</td>\n",
       "      <td>GOOGL</td>\n",
       "      <td>31.9100</td>\n",
       "    </tr>\n",
       "  </tbody>\n",
       "</table>\n",
       "<p>1259 rows × 8 columns</p>\n",
       "</div>"
      ],
      "text/plain": [
       "            date       open       high        low      close   volume   Name  \\\n",
       "0     2013-02-08   390.4551   393.7283   390.1698   393.0777  6031199  GOOGL   \n",
       "1     2013-02-11   389.5892   391.8915   387.2619   391.6012  4330781  GOOGL   \n",
       "2     2013-02-12   391.2659   394.3440   390.0747   390.7403  3714176  GOOGL   \n",
       "3     2013-02-13   390.4551   393.0677   390.3750   391.8214  2393946  GOOGL   \n",
       "4     2013-02-14   390.2549   394.7644   389.2739   394.3039  3466971  GOOGL   \n",
       "...          ...        ...        ...        ...        ...      ...    ...   \n",
       "1254  2018-02-01  1175.9900  1187.4500  1169.3600  1181.5900  3675709  GOOGL   \n",
       "1255  2018-02-02  1127.4200  1131.3000  1111.1700  1119.2000  5892122  GOOGL   \n",
       "1256  2018-02-05  1100.6100  1114.9900  1056.7400  1062.3900  4177469  GOOGL   \n",
       "1257  2018-02-06  1033.9800  1087.3800  1030.0100  1084.4300  3831524  GOOGL   \n",
       "1258  2018-02-07  1084.9700  1086.5300  1054.6200  1055.4100  2597094  GOOGL   \n",
       "\n",
       "         diff  \n",
       "0      3.5585  \n",
       "1      4.6296  \n",
       "2      4.2693  \n",
       "3      2.6927  \n",
       "4      5.4905  \n",
       "...       ...  \n",
       "1254  18.0900  \n",
       "1255  20.1300  \n",
       "1256  58.2500  \n",
       "1257  57.3700  \n",
       "1258  31.9100  \n",
       "\n",
       "[1259 rows x 8 columns]"
      ]
     },
     "execution_count": 176,
     "metadata": {},
     "output_type": "execute_result"
    }
   ],
   "source": [
    "data_google = data[data['Name']=='GOOGL']\n",
    "data_google = data_google.reset_index(drop=True)\n",
    "data_google"
   ]
  },
  {
   "cell_type": "code",
   "execution_count": 177,
   "metadata": {},
   "outputs": [
    {
     "data": {
      "text/plain": [
       "<pymongo.results.InsertManyResult at 0x7f8c567e2ac0>"
      ]
     },
     "execution_count": 177,
     "metadata": {},
     "output_type": "execute_result"
    }
   ],
   "source": [
    "client =  MongoClient(\"mongodb+srv://ajinkya30:\"+quote('Ajinkya@30')+\"@clusterstock.jw7kb.mongodb.net/DB_Stock?retryWrites=true&w=majority\")\n",
    "db_google = client['DB_Stock_Google']\n",
    "col_google = db_google['Record_Stock_Google']\n",
    "\n",
    "data_dict = data_google.to_dict(\"records\")\n",
    "col_google.insert_many(data_dict)"
   ]
  },
  {
   "cell_type": "markdown",
   "metadata": {},
   "source": [
    "**Connection to Data Lake and Quering results from Data Lake**"
   ]
  },
  {
   "cell_type": "code",
   "execution_count": 213,
   "metadata": {},
   "outputs": [],
   "source": [
    "client =  MongoClient('mongodb://ajinkya30:'+quote('Ajinkya@30')+'@datalake0-jw7kb.a.query.mongodb.net/Database0?ssl=true&authSource=admin')\n",
    "db_lake = client['Database0']\n",
    "col_lake = db_lake['Collection0']"
   ]
  },
  {
   "cell_type": "code",
   "execution_count": 214,
   "metadata": {},
   "outputs": [
    {
     "data": {
      "text/plain": [
       "Collection(Database(MongoClient(host=['datalake0-jw7kb.a.query.mongodb.net:27017'], document_class=dict, tz_aware=False, connect=True, ssl=True, authsource='admin'), 'Database0'), 'Collection0')"
      ]
     },
     "execution_count": 214,
     "metadata": {},
     "output_type": "execute_result"
    }
   ],
   "source": [
    "col_lake"
   ]
  },
  {
   "cell_type": "code",
   "execution_count": 221,
   "metadata": {},
   "outputs": [],
   "source": [
    "cur = list(col_lake.find({\"Name\": \"FB\"}).limit(5))"
   ]
  },
  {
   "cell_type": "code",
   "execution_count": 222,
   "metadata": {},
   "outputs": [
    {
     "data": {
      "text/plain": [
       "[{'_id': ObjectId('6197d041a87a68a43a0e44b1'),\n",
       "  'date': '2013-03-26',\n",
       "  'open': 25.08,\n",
       "  'high': 25.48,\n",
       "  'low': 25.03,\n",
       "  'close': 25.205,\n",
       "  'volume': 26939599,\n",
       "  'Name': 'FB',\n",
       "  'diff': 0.4499999999999993},\n",
       " {'_id': ObjectId('6197d041a87a68a43a0e44a5'),\n",
       "  'date': '2013-03-08',\n",
       "  'open': 28.425,\n",
       "  'high': 28.47,\n",
       "  'low': 27.73,\n",
       "  'close': 27.96,\n",
       "  'volume': 44167632,\n",
       "  'Name': 'FB',\n",
       "  'diff': 0.7399999999999984},\n",
       " {'_id': ObjectId('6197d041a87a68a43a0e44a8'),\n",
       "  'date': '2013-03-13',\n",
       "  'open': 27.62,\n",
       "  'high': 27.65,\n",
       "  'low': 26.92,\n",
       "  'close': 27.08,\n",
       "  'volume': 39537298,\n",
       "  'Name': 'FB',\n",
       "  'diff': 0.7299999999999969},\n",
       " {'_id': ObjectId('6197d041a87a68a43a0e44b5'),\n",
       "  'date': '2013-04-02',\n",
       "  'open': 25.77,\n",
       "  'high': 26.12,\n",
       "  'low': 25.3,\n",
       "  'close': 25.42,\n",
       "  'volume': 35124893,\n",
       "  'Name': 'FB',\n",
       "  'diff': 0.8200000000000003},\n",
       " {'_id': ObjectId('6197d041a87a68a43a0e44bb'),\n",
       "  'date': '2013-04-10',\n",
       "  'open': 27.0099,\n",
       "  'high': 27.84,\n",
       "  'low': 26.9,\n",
       "  'close': 27.57,\n",
       "  'volume': 45896160,\n",
       "  'Name': 'FB',\n",
       "  'diff': 0.9400000000000013}]"
      ]
     },
     "execution_count": 222,
     "metadata": {},
     "output_type": "execute_result"
    }
   ],
   "source": [
    "cur"
   ]
  },
  {
   "cell_type": "code",
   "execution_count": 239,
   "metadata": {},
   "outputs": [],
   "source": [
    "cur = list(col_lake.find({\"Name\" : 'FB','diff':{'$gt':8}}).limit(5))"
   ]
  },
  {
   "cell_type": "code",
   "execution_count": 240,
   "metadata": {},
   "outputs": [
    {
     "data": {
      "text/plain": [
       "[{'_id': ObjectId('6197d041a87a68a43a0e4845'),\n",
       "  'date': '2016-11-10',\n",
       "  'open': 123.93,\n",
       "  'high': 124.18,\n",
       "  'low': 115.27,\n",
       "  'close': 120.8,\n",
       "  'volume': 67846704,\n",
       "  'Name': 'FB',\n",
       "  'diff': 8.91000000000001},\n",
       " {'_id': ObjectId('6197d041a87a68a43a0e4711'),\n",
       "  'date': '2015-08-24',\n",
       "  'open': 77.03,\n",
       "  'high': 87.14,\n",
       "  'low': 72.0,\n",
       "  'close': 82.09,\n",
       "  'volume': 83710727,\n",
       "  'Name': 'FB',\n",
       "  'diff': 15.14},\n",
       " {'_id': ObjectId('6197d041a87a68a43a0e48d5'),\n",
       "  'date': '2017-06-09',\n",
       "  'open': 154.77,\n",
       "  'high': 155.59,\n",
       "  'low': 146.61,\n",
       "  'close': 149.6,\n",
       "  'volume': 35577676,\n",
       "  'Name': 'FB',\n",
       "  'diff': 8.97999999999999},\n",
       " {'_id': ObjectId('6197d041a87a68a43a0e497b'),\n",
       "  'date': '2018-02-06',\n",
       "  'open': 178.57,\n",
       "  'high': 185.77,\n",
       "  'low': 177.74,\n",
       "  'close': 185.31,\n",
       "  'volume': 37758505,\n",
       "  'Name': 'FB',\n",
       "  'diff': 8.030000000000001},\n",
       " {'_id': ObjectId('6197d041a87a68a43a0e497a'),\n",
       "  'date': '2018-02-05',\n",
       "  'open': 186.93,\n",
       "  'high': 190.61,\n",
       "  'low': 180.61,\n",
       "  'close': 181.26,\n",
       "  'volume': 33128206,\n",
       "  'Name': 'FB',\n",
       "  'diff': 10.0}]"
      ]
     },
     "execution_count": 240,
     "metadata": {},
     "output_type": "execute_result"
    }
   ],
   "source": [
    "cur"
   ]
  },
  {
   "cell_type": "code",
   "execution_count": 248,
   "metadata": {},
   "outputs": [],
   "source": [
    "cur = list(col_lake.aggregate([{'$match': {\"diff\" :{'$gt': 5}, \"Name\": 'AAPL'} },{'$count': \"Num\"}]))"
   ]
  },
  {
   "cell_type": "code",
   "execution_count": 249,
   "metadata": {},
   "outputs": [
    {
     "data": {
      "text/plain": [
       "[{'Num': 19}]"
      ]
     },
     "execution_count": 249,
     "metadata": {},
     "output_type": "execute_result"
    }
   ],
   "source": [
    "cur"
   ]
  }
 ],
 "metadata": {
  "kernelspec": {
   "display_name": "Python 3",
   "language": "python",
   "name": "python3"
  },
  "language_info": {
   "codemirror_mode": {
    "name": "ipython",
    "version": 3
   },
   "file_extension": ".py",
   "mimetype": "text/x-python",
   "name": "python",
   "nbconvert_exporter": "python",
   "pygments_lexer": "ipython3",
   "version": "3.8.5"
  }
 },
 "nbformat": 4,
 "nbformat_minor": 4
}
