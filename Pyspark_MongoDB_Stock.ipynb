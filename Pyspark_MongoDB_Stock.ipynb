{
 "cells": [
  {
   "cell_type": "code",
   "execution_count": null,
   "metadata": {},
   "outputs": [],
   "source": [
    "!pip3 install pyspark"
   ]
  },
  {
   "cell_type": "code",
   "execution_count": null,
   "metadata": {},
   "outputs": [],
   "source": [
    "!export PYSPARK_SUBMIT_ARGS=\"--master local[2] pyspark-shell\""
   ]
  },
  {
   "cell_type": "code",
   "execution_count": 168,
   "metadata": {},
   "outputs": [],
   "source": [
    "import pyspark\n",
    "from pyspark.sql import SparkSession\n",
    "from urllib.parse import quote\n",
    "import pymongo\n",
    "from pyspark import SparkContext,SparkConf\n",
    "from pyspark.sql.functions import col\n",
    "from pyspark.sql.functions import isnull, when, count, col, isnan, col, isnan, when, trim\n",
    "from pyspark.ml.feature import StringIndexer\n",
    "from pyspark.ml.feature import VectorAssembler\n",
    "from pyspark.sql.types import *\n",
    "import pyspark.sql.functions as F\n",
    "from pyspark.ml.regression import RandomForestRegressor\n",
    "from pyspark.ml.evaluation import MulticlassClassificationEvaluator\n",
    "from pyspark.ml import Pipeline\n",
    "from pyspark.ml.regression import GBTRegressor\n",
    "from pyspark.ml.feature import VectorIndexer\n",
    "from pyspark.ml.evaluation import RegressionEvaluator\n",
    "from pyspark.ml.regression import GeneralizedLinearRegression\n",
    "from pyspark.ml.feature import MinMaxScaler"
   ]
  },
  {
   "cell_type": "code",
   "execution_count": 2,
   "metadata": {},
   "outputs": [
    {
     "data": {
      "text/plain": [
       "'3.2.0'"
      ]
     },
     "execution_count": 2,
     "metadata": {},
     "output_type": "execute_result"
    }
   ],
   "source": [
    "pyspark.__version__"
   ]
  },
  {
   "cell_type": "code",
   "execution_count": 3,
   "metadata": {},
   "outputs": [],
   "source": [
    "spark = SparkSession\\\n",
    "    .builder\\\n",
    "    .master('local')\\\n",
    "    .config('spark.mongodb.input.uri', 'mongodb+srv://ajinkya30:'+quote('Ajinkya@30')+'@clusterstock.jw7kb.mongodb.net/DB_Stock.Record_Stock?retryWrites=true&w=majority')\\\n",
    "    .config('spark.mongodb.output.uri', 'mongodb+srv://ajinkya30:'+quote('Ajinkya@30')+'@clusterstock.jw7kb.mongodb.net/DB_Stock.Record_Stock?retryWrites=true&w=majority')\\\n",
    "    .config('spark.jars.packages', 'org.mongodb.spark:mongo-spark-connector_2.12:3.0.1')\\\n",
    "    .getOrCreate()"
   ]
  },
  {
   "cell_type": "code",
   "execution_count": 4,
   "metadata": {},
   "outputs": [
    {
     "data": {
      "text/html": [
       "\n",
       "            <div>\n",
       "                <p><b>SparkSession - in-memory</b></p>\n",
       "                \n",
       "        <div>\n",
       "            <p><b>SparkContext</b></p>\n",
       "\n",
       "            <p><a href=\"http://192.168.1.10:4040\">Spark UI</a></p>\n",
       "\n",
       "            <dl>\n",
       "              <dt>Version</dt>\n",
       "                <dd><code>v3.2.0</code></dd>\n",
       "              <dt>Master</dt>\n",
       "                <dd><code>local</code></dd>\n",
       "              <dt>AppName</dt>\n",
       "                <dd><code>pyspark-shell</code></dd>\n",
       "            </dl>\n",
       "        </div>\n",
       "        \n",
       "            </div>\n",
       "        "
      ],
      "text/plain": [
       "<pyspark.sql.session.SparkSession at 0x7fad80964280>"
      ]
     },
     "execution_count": 4,
     "metadata": {},
     "output_type": "execute_result"
    }
   ],
   "source": [
    "spark"
   ]
  },
  {
   "cell_type": "code",
   "execution_count": 103,
   "metadata": {},
   "outputs": [],
   "source": [
    "df = spark.read\\\n",
    "    .format(\"com.mongodb.spark.sql.DefaultSource\")\\\n",
    "    .option(\"database\",\"DB_Stock\")\\\n",
    "    .option(\"collection\", \"Record_Stock\")\\\n",
    "    .load()"
   ]
  },
  {
   "cell_type": "code",
   "execution_count": 62,
   "metadata": {},
   "outputs": [
    {
     "data": {
      "text/plain": [
       "DataFrame[Name: string, _id: struct<oid:string>, close: double, date: string, diff: double, high: double, low: double, open: double, volume: int]"
      ]
     },
     "execution_count": 62,
     "metadata": {},
     "output_type": "execute_result"
    }
   ],
   "source": [
    "df"
   ]
  },
  {
   "cell_type": "code",
   "execution_count": 63,
   "metadata": {},
   "outputs": [
    {
     "name": "stdout",
     "output_type": "stream",
     "text": [
      "+----+--------------------+-----+----------+-------------------+-----+-----+-----+--------+\n",
      "|Name|                 _id|close|      date|               diff| high|  low| open|  volume|\n",
      "+----+--------------------+-----+----------+-------------------+-----+-----+-----+--------+\n",
      "| AAL|{6196c127a87a68a4...|14.75|2013-02-08|0.48999999999999844|15.12|14.63|15.07| 8407500|\n",
      "| AAL|{6196c127a87a68a4...|14.46|2013-02-11|               0.75|15.01|14.26|14.89| 8882000|\n",
      "| AAL|{6196c127a87a68a4...|14.27|2013-02-12|0.41000000000000014|14.51| 14.1|14.45| 8126000|\n",
      "| AAL|{6196c127a87a68a4...|14.66|2013-02-13| 0.6899999999999995|14.94|14.25| 14.3|10259500|\n",
      "| AAL|{6196c127a87a68a4...|13.99|2013-02-14| 1.8000000000000007|14.96|13.16|14.94|31879900|\n",
      "+----+--------------------+-----+----------+-------------------+-----+-----+-----+--------+\n",
      "only showing top 5 rows\n",
      "\n"
     ]
    }
   ],
   "source": [
    "df.show(5)"
   ]
  },
  {
   "cell_type": "code",
   "execution_count": 64,
   "metadata": {},
   "outputs": [],
   "source": [
    "data = df.toPandas()"
   ]
  },
  {
   "cell_type": "code",
   "execution_count": 65,
   "metadata": {},
   "outputs": [
    {
     "data": {
      "text/html": [
       "<div>\n",
       "<style scoped>\n",
       "    .dataframe tbody tr th:only-of-type {\n",
       "        vertical-align: middle;\n",
       "    }\n",
       "\n",
       "    .dataframe tbody tr th {\n",
       "        vertical-align: top;\n",
       "    }\n",
       "\n",
       "    .dataframe thead th {\n",
       "        text-align: right;\n",
       "    }\n",
       "</style>\n",
       "<table border=\"1\" class=\"dataframe\">\n",
       "  <thead>\n",
       "    <tr style=\"text-align: right;\">\n",
       "      <th></th>\n",
       "      <th>Name</th>\n",
       "      <th>_id</th>\n",
       "      <th>close</th>\n",
       "      <th>date</th>\n",
       "      <th>diff</th>\n",
       "      <th>high</th>\n",
       "      <th>low</th>\n",
       "      <th>open</th>\n",
       "      <th>volume</th>\n",
       "    </tr>\n",
       "  </thead>\n",
       "  <tbody>\n",
       "    <tr>\n",
       "      <th>0</th>\n",
       "      <td>AAL</td>\n",
       "      <td>(6196c127a87a68a43a04bec0,)</td>\n",
       "      <td>14.75</td>\n",
       "      <td>2013-02-08</td>\n",
       "      <td>0.49</td>\n",
       "      <td>15.12</td>\n",
       "      <td>14.63</td>\n",
       "      <td>15.07</td>\n",
       "      <td>8407500</td>\n",
       "    </tr>\n",
       "    <tr>\n",
       "      <th>1</th>\n",
       "      <td>AAL</td>\n",
       "      <td>(6196c127a87a68a43a04bec1,)</td>\n",
       "      <td>14.46</td>\n",
       "      <td>2013-02-11</td>\n",
       "      <td>0.75</td>\n",
       "      <td>15.01</td>\n",
       "      <td>14.26</td>\n",
       "      <td>14.89</td>\n",
       "      <td>8882000</td>\n",
       "    </tr>\n",
       "    <tr>\n",
       "      <th>2</th>\n",
       "      <td>AAL</td>\n",
       "      <td>(6196c127a87a68a43a04bec2,)</td>\n",
       "      <td>14.27</td>\n",
       "      <td>2013-02-12</td>\n",
       "      <td>0.41</td>\n",
       "      <td>14.51</td>\n",
       "      <td>14.10</td>\n",
       "      <td>14.45</td>\n",
       "      <td>8126000</td>\n",
       "    </tr>\n",
       "    <tr>\n",
       "      <th>3</th>\n",
       "      <td>AAL</td>\n",
       "      <td>(6196c127a87a68a43a04bec3,)</td>\n",
       "      <td>14.66</td>\n",
       "      <td>2013-02-13</td>\n",
       "      <td>0.69</td>\n",
       "      <td>14.94</td>\n",
       "      <td>14.25</td>\n",
       "      <td>14.30</td>\n",
       "      <td>10259500</td>\n",
       "    </tr>\n",
       "    <tr>\n",
       "      <th>4</th>\n",
       "      <td>AAL</td>\n",
       "      <td>(6196c127a87a68a43a04bec4,)</td>\n",
       "      <td>13.99</td>\n",
       "      <td>2013-02-14</td>\n",
       "      <td>1.80</td>\n",
       "      <td>14.96</td>\n",
       "      <td>13.16</td>\n",
       "      <td>14.94</td>\n",
       "      <td>31879900</td>\n",
       "    </tr>\n",
       "    <tr>\n",
       "      <th>...</th>\n",
       "      <td>...</td>\n",
       "      <td>...</td>\n",
       "      <td>...</td>\n",
       "      <td>...</td>\n",
       "      <td>...</td>\n",
       "      <td>...</td>\n",
       "      <td>...</td>\n",
       "      <td>...</td>\n",
       "      <td>...</td>\n",
       "    </tr>\n",
       "    <tr>\n",
       "      <th>619035</th>\n",
       "      <td>ZTS</td>\n",
       "      <td>(6196c12da87a68a43a0e30db,)</td>\n",
       "      <td>77.82</td>\n",
       "      <td>2018-02-01</td>\n",
       "      <td>1.58</td>\n",
       "      <td>78.27</td>\n",
       "      <td>76.69</td>\n",
       "      <td>76.84</td>\n",
       "      <td>2982259</td>\n",
       "    </tr>\n",
       "    <tr>\n",
       "      <th>619036</th>\n",
       "      <td>ZTS</td>\n",
       "      <td>(6196c12da87a68a43a0e30dc,)</td>\n",
       "      <td>76.78</td>\n",
       "      <td>2018-02-02</td>\n",
       "      <td>1.39</td>\n",
       "      <td>78.12</td>\n",
       "      <td>76.73</td>\n",
       "      <td>77.53</td>\n",
       "      <td>2595187</td>\n",
       "    </tr>\n",
       "    <tr>\n",
       "      <th>619037</th>\n",
       "      <td>ZTS</td>\n",
       "      <td>(6196c12da87a68a43a0e30dd,)</td>\n",
       "      <td>73.83</td>\n",
       "      <td>2018-02-05</td>\n",
       "      <td>3.74</td>\n",
       "      <td>76.92</td>\n",
       "      <td>73.18</td>\n",
       "      <td>76.64</td>\n",
       "      <td>2962031</td>\n",
       "    </tr>\n",
       "    <tr>\n",
       "      <th>619038</th>\n",
       "      <td>ZTS</td>\n",
       "      <td>(6196c12da87a68a43a0e30de,)</td>\n",
       "      <td>73.27</td>\n",
       "      <td>2018-02-06</td>\n",
       "      <td>2.43</td>\n",
       "      <td>74.56</td>\n",
       "      <td>72.13</td>\n",
       "      <td>72.74</td>\n",
       "      <td>4924323</td>\n",
       "    </tr>\n",
       "    <tr>\n",
       "      <th>619039</th>\n",
       "      <td>ZTS</td>\n",
       "      <td>(6196c12da87a68a43a0e30df,)</td>\n",
       "      <td>73.86</td>\n",
       "      <td>2018-02-07</td>\n",
       "      <td>2.31</td>\n",
       "      <td>75.00</td>\n",
       "      <td>72.69</td>\n",
       "      <td>72.70</td>\n",
       "      <td>4534912</td>\n",
       "    </tr>\n",
       "  </tbody>\n",
       "</table>\n",
       "<p>619040 rows × 9 columns</p>\n",
       "</div>"
      ],
      "text/plain": [
       "       Name                          _id  close        date  diff   high  \\\n",
       "0       AAL  (6196c127a87a68a43a04bec0,)  14.75  2013-02-08  0.49  15.12   \n",
       "1       AAL  (6196c127a87a68a43a04bec1,)  14.46  2013-02-11  0.75  15.01   \n",
       "2       AAL  (6196c127a87a68a43a04bec2,)  14.27  2013-02-12  0.41  14.51   \n",
       "3       AAL  (6196c127a87a68a43a04bec3,)  14.66  2013-02-13  0.69  14.94   \n",
       "4       AAL  (6196c127a87a68a43a04bec4,)  13.99  2013-02-14  1.80  14.96   \n",
       "...     ...                          ...    ...         ...   ...    ...   \n",
       "619035  ZTS  (6196c12da87a68a43a0e30db,)  77.82  2018-02-01  1.58  78.27   \n",
       "619036  ZTS  (6196c12da87a68a43a0e30dc,)  76.78  2018-02-02  1.39  78.12   \n",
       "619037  ZTS  (6196c12da87a68a43a0e30dd,)  73.83  2018-02-05  3.74  76.92   \n",
       "619038  ZTS  (6196c12da87a68a43a0e30de,)  73.27  2018-02-06  2.43  74.56   \n",
       "619039  ZTS  (6196c12da87a68a43a0e30df,)  73.86  2018-02-07  2.31  75.00   \n",
       "\n",
       "          low   open    volume  \n",
       "0       14.63  15.07   8407500  \n",
       "1       14.26  14.89   8882000  \n",
       "2       14.10  14.45   8126000  \n",
       "3       14.25  14.30  10259500  \n",
       "4       13.16  14.94  31879900  \n",
       "...       ...    ...       ...  \n",
       "619035  76.69  76.84   2982259  \n",
       "619036  76.73  77.53   2595187  \n",
       "619037  73.18  76.64   2962031  \n",
       "619038  72.13  72.74   4924323  \n",
       "619039  72.69  72.70   4534912  \n",
       "\n",
       "[619040 rows x 9 columns]"
      ]
     },
     "execution_count": 65,
     "metadata": {},
     "output_type": "execute_result"
    }
   ],
   "source": [
    "data"
   ]
  },
  {
   "cell_type": "code",
   "execution_count": 9,
   "metadata": {},
   "outputs": [
    {
     "data": {
      "text/plain": [
       "DataFrame[Name: string, _id: struct<oid:string>, close: double, date: string, diff: double, high: double, low: double, open: double, volume: int]"
      ]
     },
     "execution_count": 9,
     "metadata": {},
     "output_type": "execute_result"
    }
   ],
   "source": [
    "df"
   ]
  },
  {
   "cell_type": "code",
   "execution_count": 66,
   "metadata": {},
   "outputs": [
    {
     "data": {
      "text/plain": [
       "619040"
      ]
     },
     "execution_count": 66,
     "metadata": {},
     "output_type": "execute_result"
    }
   ],
   "source": [
    "df.count()"
   ]
  },
  {
   "cell_type": "code",
   "execution_count": 15,
   "metadata": {},
   "outputs": [
    {
     "data": {
      "text/plain": [
       "[('Name', 'string'),\n",
       " ('_id', 'struct<oid:string>'),\n",
       " ('close', 'double'),\n",
       " ('date', 'string'),\n",
       " ('diff', 'double'),\n",
       " ('high', 'double'),\n",
       " ('low', 'double'),\n",
       " ('open', 'double'),\n",
       " ('volume', 'int')]"
      ]
     },
     "execution_count": 15,
     "metadata": {},
     "output_type": "execute_result"
    }
   ],
   "source": [
    "df.dtypes"
   ]
  },
  {
   "cell_type": "markdown",
   "metadata": {},
   "source": [
    "See the decsriptive statistics"
   ]
  },
  {
   "cell_type": "code",
   "execution_count": 67,
   "metadata": {
    "scrolled": true
   },
   "outputs": [
    {
     "data": {
      "text/html": [
       "<div>\n",
       "<style scoped>\n",
       "    .dataframe tbody tr th:only-of-type {\n",
       "        vertical-align: middle;\n",
       "    }\n",
       "\n",
       "    .dataframe tbody tr th {\n",
       "        vertical-align: top;\n",
       "    }\n",
       "\n",
       "    .dataframe thead th {\n",
       "        text-align: right;\n",
       "    }\n",
       "</style>\n",
       "<table border=\"1\" class=\"dataframe\">\n",
       "  <thead>\n",
       "    <tr style=\"text-align: right;\">\n",
       "      <th></th>\n",
       "      <th>summary</th>\n",
       "      <th>Name</th>\n",
       "      <th>close</th>\n",
       "      <th>date</th>\n",
       "      <th>diff</th>\n",
       "      <th>high</th>\n",
       "      <th>low</th>\n",
       "      <th>open</th>\n",
       "      <th>volume</th>\n",
       "    </tr>\n",
       "  </thead>\n",
       "  <tbody>\n",
       "    <tr>\n",
       "      <th>0</th>\n",
       "      <td>count</td>\n",
       "      <td>619040</td>\n",
       "      <td>619040</td>\n",
       "      <td>619040</td>\n",
       "      <td>619040</td>\n",
       "      <td>619040</td>\n",
       "      <td>619040</td>\n",
       "      <td>619040</td>\n",
       "      <td>619040</td>\n",
       "    </tr>\n",
       "    <tr>\n",
       "      <th>1</th>\n",
       "      <td>mean</td>\n",
       "      <td>None</td>\n",
       "      <td>83.04376276476455</td>\n",
       "      <td>None</td>\n",
       "      <td>NaN</td>\n",
       "      <td>NaN</td>\n",
       "      <td>NaN</td>\n",
       "      <td>NaN</td>\n",
       "      <td>4321823.395568945</td>\n",
       "    </tr>\n",
       "    <tr>\n",
       "      <th>2</th>\n",
       "      <td>stddev</td>\n",
       "      <td>None</td>\n",
       "      <td>97.38974800165754</td>\n",
       "      <td>None</td>\n",
       "      <td>NaN</td>\n",
       "      <td>NaN</td>\n",
       "      <td>NaN</td>\n",
       "      <td>NaN</td>\n",
       "      <td>8693609.511967564</td>\n",
       "    </tr>\n",
       "    <tr>\n",
       "      <th>3</th>\n",
       "      <td>min</td>\n",
       "      <td>A</td>\n",
       "      <td>1.59</td>\n",
       "      <td>2013-02-08</td>\n",
       "      <td>-0.25500000000000256</td>\n",
       "      <td>1.69</td>\n",
       "      <td>1.5</td>\n",
       "      <td>1.62</td>\n",
       "      <td>0</td>\n",
       "    </tr>\n",
       "    <tr>\n",
       "      <th>4</th>\n",
       "      <td>max</td>\n",
       "      <td>ZTS</td>\n",
       "      <td>2049.0</td>\n",
       "      <td>2018-02-07</td>\n",
       "      <td>NaN</td>\n",
       "      <td>NaN</td>\n",
       "      <td>NaN</td>\n",
       "      <td>NaN</td>\n",
       "      <td>618237630</td>\n",
       "    </tr>\n",
       "  </tbody>\n",
       "</table>\n",
       "</div>"
      ],
      "text/plain": [
       "  summary    Name              close        date                  diff  \\\n",
       "0   count  619040             619040      619040                619040   \n",
       "1    mean    None  83.04376276476455        None                   NaN   \n",
       "2  stddev    None  97.38974800165754        None                   NaN   \n",
       "3     min       A               1.59  2013-02-08  -0.25500000000000256   \n",
       "4     max     ZTS             2049.0  2018-02-07                   NaN   \n",
       "\n",
       "     high     low    open             volume  \n",
       "0  619040  619040  619040             619040  \n",
       "1     NaN     NaN     NaN  4321823.395568945  \n",
       "2     NaN     NaN     NaN  8693609.511967564  \n",
       "3    1.69     1.5    1.62                  0  \n",
       "4     NaN     NaN     NaN          618237630  "
      ]
     },
     "execution_count": 67,
     "metadata": {},
     "output_type": "execute_result"
    }
   ],
   "source": [
    "df.describe().toPandas()"
   ]
  },
  {
   "cell_type": "markdown",
   "metadata": {},
   "source": [
    "Convert the date column to date type"
   ]
  },
  {
   "cell_type": "code",
   "execution_count": 104,
   "metadata": {},
   "outputs": [],
   "source": [
    "dataset = df.select(col('date').cast('date'),col('Name'),col('open'),col('close'),col('high'),col('low'),col('volume'),col('diff'))"
   ]
  },
  {
   "cell_type": "code",
   "execution_count": 105,
   "metadata": {},
   "outputs": [
    {
     "name": "stdout",
     "output_type": "stream",
     "text": [
      "+----------+----+-----+-----+-----+-----+--------+-------------------+\n",
      "|      date|Name| open|close| high|  low|  volume|               diff|\n",
      "+----------+----+-----+-----+-----+-----+--------+-------------------+\n",
      "|2013-02-08| AAL|15.07|14.75|15.12|14.63| 8407500|0.48999999999999844|\n",
      "|2013-02-11| AAL|14.89|14.46|15.01|14.26| 8882000|               0.75|\n",
      "|2013-02-12| AAL|14.45|14.27|14.51| 14.1| 8126000|0.41000000000000014|\n",
      "|2013-02-13| AAL| 14.3|14.66|14.94|14.25|10259500| 0.6899999999999995|\n",
      "|2013-02-14| AAL|14.94|13.99|14.96|13.16|31879900| 1.8000000000000007|\n",
      "|2013-02-15| AAL|13.93| 14.5|14.61|13.93|15628000| 0.6799999999999997|\n",
      "|2013-02-19| AAL|14.33|14.26|14.56|14.08|11354400| 0.4800000000000004|\n",
      "|2013-02-20| AAL|14.17|13.33|14.26|13.15|14725200| 1.1099999999999994|\n",
      "|2013-02-21| AAL|13.62|13.37|13.95| 12.9|11922100|  1.049999999999999|\n",
      "|2013-02-22| AAL|13.57|13.57| 13.6|13.21| 6071400| 0.3899999999999988|\n",
      "|2013-02-25| AAL| 13.6|13.02|13.76| 13.0| 7186400| 0.7599999999999998|\n",
      "|2013-02-26| AAL|13.14|13.26|13.42| 12.7| 9419000| 0.7200000000000006|\n",
      "|2013-02-27| AAL|13.28|13.41|13.62|13.18| 7390500| 0.4399999999999995|\n",
      "|2013-02-28| AAL|13.49|13.43|13.63|13.39| 6143600| 0.2400000000000002|\n",
      "|2013-03-01| AAL|13.37|13.61|13.95|13.32| 7376800|  0.629999999999999|\n",
      "|2013-03-04| AAL| 13.5| 13.9|14.07|13.47| 8174800| 0.5999999999999996|\n",
      "|2013-03-05| AAL|14.01|14.05|14.05|13.71| 7676100|0.33999999999999986|\n",
      "|2013-03-06| AAL|14.52|14.57|14.68|14.25|13243200| 0.4299999999999997|\n",
      "|2013-03-07| AAL| 14.7|14.82|14.93| 14.5| 9125300| 0.4299999999999997|\n",
      "|2013-03-08| AAL|14.99|14.92| 15.2|14.84|10593700|0.35999999999999943|\n",
      "+----------+----+-----+-----+-----+-----+--------+-------------------+\n",
      "only showing top 20 rows\n",
      "\n"
     ]
    }
   ],
   "source": [
    "dataset.show()"
   ]
  },
  {
   "cell_type": "markdown",
   "metadata": {},
   "source": [
    "To check null values"
   ]
  },
  {
   "cell_type": "code",
   "execution_count": 73,
   "metadata": {},
   "outputs": [
    {
     "name": "stdout",
     "output_type": "stream",
     "text": [
      "+----+----+----+-----+----+---+------+----+\n",
      "|date|Name|open|close|high|low|volume|diff|\n",
      "+----+----+----+-----+----+---+------+----+\n",
      "|   0|   0|   0|    0|   0|  0|     0|   0|\n",
      "+----+----+----+-----+----+---+------+----+\n",
      "\n"
     ]
    }
   ],
   "source": [
    "dataset.select([count(when(isnull(c), c)).alias(c) for c in dataset]).show()"
   ]
  },
  {
   "cell_type": "code",
   "execution_count": 92,
   "metadata": {},
   "outputs": [],
   "source": [
    "dataset_1 = dataset.select(col('open'),col('close'),col('high'),col('low'),col('volume'),col('diff'))"
   ]
  },
  {
   "cell_type": "markdown",
   "metadata": {},
   "source": [
    "To check the NAN values"
   ]
  },
  {
   "cell_type": "code",
   "execution_count": 81,
   "metadata": {
    "scrolled": false
   },
   "outputs": [
    {
     "name": "stdout",
     "output_type": "stream",
     "text": [
      "+----+-----+----+---+------+----+\n",
      "|open|close|high|low|volume|diff|\n",
      "+----+-----+----+---+------+----+\n",
      "|  11|    0|   8|  8|     0|   8|\n",
      "+----+-----+----+---+------+----+\n",
      "\n"
     ]
    }
   ],
   "source": [
    "dataset.select([count(when(isnan(c), c)).alias(c) for c in dataset_1.columns]).show()"
   ]
  },
  {
   "cell_type": "markdown",
   "metadata": {},
   "source": [
    "Encoding the name column"
   ]
  },
  {
   "cell_type": "code",
   "execution_count": 106,
   "metadata": {},
   "outputs": [],
   "source": [
    "dataset = StringIndexer(\n",
    "    inputCol='Name', \n",
    "    outputCol='Stock_Abbrv', \n",
    "    handleInvalid='keep').fit(dataset).transform(dataset)"
   ]
  },
  {
   "cell_type": "code",
   "execution_count": 107,
   "metadata": {},
   "outputs": [
    {
     "name": "stdout",
     "output_type": "stream",
     "text": [
      "+----------+----+-----+-----+-----+-----+--------+-------------------+-----------+\n",
      "|      date|Name| open|close| high|  low|  volume|               diff|Stock_Abbrv|\n",
      "+----------+----+-----+-----+-----+-----+--------+-------------------+-----------+\n",
      "|2013-02-08| AAL|15.07|14.75|15.12|14.63| 8407500|0.48999999999999844|        1.0|\n",
      "|2013-02-11| AAL|14.89|14.46|15.01|14.26| 8882000|               0.75|        1.0|\n",
      "|2013-02-12| AAL|14.45|14.27|14.51| 14.1| 8126000|0.41000000000000014|        1.0|\n",
      "|2013-02-13| AAL| 14.3|14.66|14.94|14.25|10259500| 0.6899999999999995|        1.0|\n",
      "|2013-02-14| AAL|14.94|13.99|14.96|13.16|31879900| 1.8000000000000007|        1.0|\n",
      "|2013-02-15| AAL|13.93| 14.5|14.61|13.93|15628000| 0.6799999999999997|        1.0|\n",
      "|2013-02-19| AAL|14.33|14.26|14.56|14.08|11354400| 0.4800000000000004|        1.0|\n",
      "|2013-02-20| AAL|14.17|13.33|14.26|13.15|14725200| 1.1099999999999994|        1.0|\n",
      "|2013-02-21| AAL|13.62|13.37|13.95| 12.9|11922100|  1.049999999999999|        1.0|\n",
      "|2013-02-22| AAL|13.57|13.57| 13.6|13.21| 6071400| 0.3899999999999988|        1.0|\n",
      "|2013-02-25| AAL| 13.6|13.02|13.76| 13.0| 7186400| 0.7599999999999998|        1.0|\n",
      "|2013-02-26| AAL|13.14|13.26|13.42| 12.7| 9419000| 0.7200000000000006|        1.0|\n",
      "|2013-02-27| AAL|13.28|13.41|13.62|13.18| 7390500| 0.4399999999999995|        1.0|\n",
      "|2013-02-28| AAL|13.49|13.43|13.63|13.39| 6143600| 0.2400000000000002|        1.0|\n",
      "|2013-03-01| AAL|13.37|13.61|13.95|13.32| 7376800|  0.629999999999999|        1.0|\n",
      "|2013-03-04| AAL| 13.5| 13.9|14.07|13.47| 8174800| 0.5999999999999996|        1.0|\n",
      "|2013-03-05| AAL|14.01|14.05|14.05|13.71| 7676100|0.33999999999999986|        1.0|\n",
      "|2013-03-06| AAL|14.52|14.57|14.68|14.25|13243200| 0.4299999999999997|        1.0|\n",
      "|2013-03-07| AAL| 14.7|14.82|14.93| 14.5| 9125300| 0.4299999999999997|        1.0|\n",
      "|2013-03-08| AAL|14.99|14.92| 15.2|14.84|10593700|0.35999999999999943|        1.0|\n",
      "+----------+----+-----+-----+-----+-----+--------+-------------------+-----------+\n",
      "only showing top 20 rows\n",
      "\n"
     ]
    }
   ],
   "source": [
    "dataset.show()"
   ]
  },
  {
   "cell_type": "code",
   "execution_count": 108,
   "metadata": {
    "scrolled": true
   },
   "outputs": [
    {
     "name": "stdout",
     "output_type": "stream",
     "text": [
      "+----------+-----+-----+-----+-----+--------+-------------------+-----------+\n",
      "|      date| open|close| high|  low|  volume|               diff|Stock_Abbrv|\n",
      "+----------+-----+-----+-----+-----+--------+-------------------+-----------+\n",
      "|2013-02-08|15.07|14.75|15.12|14.63| 8407500|0.48999999999999844|        1.0|\n",
      "|2013-02-11|14.89|14.46|15.01|14.26| 8882000|               0.75|        1.0|\n",
      "|2013-02-12|14.45|14.27|14.51| 14.1| 8126000|0.41000000000000014|        1.0|\n",
      "|2013-02-13| 14.3|14.66|14.94|14.25|10259500| 0.6899999999999995|        1.0|\n",
      "|2013-02-14|14.94|13.99|14.96|13.16|31879900| 1.8000000000000007|        1.0|\n",
      "|2013-02-15|13.93| 14.5|14.61|13.93|15628000| 0.6799999999999997|        1.0|\n",
      "|2013-02-19|14.33|14.26|14.56|14.08|11354400| 0.4800000000000004|        1.0|\n",
      "|2013-02-20|14.17|13.33|14.26|13.15|14725200| 1.1099999999999994|        1.0|\n",
      "|2013-02-21|13.62|13.37|13.95| 12.9|11922100|  1.049999999999999|        1.0|\n",
      "|2013-02-22|13.57|13.57| 13.6|13.21| 6071400| 0.3899999999999988|        1.0|\n",
      "|2013-02-25| 13.6|13.02|13.76| 13.0| 7186400| 0.7599999999999998|        1.0|\n",
      "|2013-02-26|13.14|13.26|13.42| 12.7| 9419000| 0.7200000000000006|        1.0|\n",
      "|2013-02-27|13.28|13.41|13.62|13.18| 7390500| 0.4399999999999995|        1.0|\n",
      "|2013-02-28|13.49|13.43|13.63|13.39| 6143600| 0.2400000000000002|        1.0|\n",
      "|2013-03-01|13.37|13.61|13.95|13.32| 7376800|  0.629999999999999|        1.0|\n",
      "|2013-03-04| 13.5| 13.9|14.07|13.47| 8174800| 0.5999999999999996|        1.0|\n",
      "|2013-03-05|14.01|14.05|14.05|13.71| 7676100|0.33999999999999986|        1.0|\n",
      "|2013-03-06|14.52|14.57|14.68|14.25|13243200| 0.4299999999999997|        1.0|\n",
      "|2013-03-07| 14.7|14.82|14.93| 14.5| 9125300| 0.4299999999999997|        1.0|\n",
      "|2013-03-08|14.99|14.92| 15.2|14.84|10593700|0.35999999999999943|        1.0|\n",
      "+----------+-----+-----+-----+-----+--------+-------------------+-----------+\n",
      "only showing top 20 rows\n",
      "\n"
     ]
    }
   ],
   "source": [
    "# Drop unnecessary columns\n",
    "dataset = dataset.drop('Name')\n",
    "dataset.show()"
   ]
  },
  {
   "cell_type": "code",
   "execution_count": 96,
   "metadata": {},
   "outputs": [
    {
     "data": {
      "text/plain": [
       "[('date', 'date'),\n",
       " ('open', 'double'),\n",
       " ('close', 'double'),\n",
       " ('high', 'double'),\n",
       " ('low', 'double'),\n",
       " ('volume', 'int'),\n",
       " ('diff', 'double'),\n",
       " ('Stock_Abbrv', 'double')]"
      ]
     },
     "execution_count": 96,
     "metadata": {},
     "output_type": "execute_result"
    }
   ],
   "source": [
    "dataset.dtypes"
   ]
  },
  {
   "cell_type": "markdown",
   "metadata": {},
   "source": [
    "Converting the date column in to a numeric encoded entry "
   ]
  },
  {
   "cell_type": "code",
   "execution_count": 109,
   "metadata": {},
   "outputs": [],
   "source": [
    "dataset=dataset.withColumn(\"dateAsInteger\", F.unix_timestamp(dataset['date']))"
   ]
  },
  {
   "cell_type": "code",
   "execution_count": 110,
   "metadata": {},
   "outputs": [
    {
     "name": "stdout",
     "output_type": "stream",
     "text": [
      "+-----+-----+-----+-----+--------+-------------------+-----------+-------------+\n",
      "| open|close| high|  low|  volume|               diff|Stock_Abbrv|dateAsInteger|\n",
      "+-----+-----+-----+-----+--------+-------------------+-----------+-------------+\n",
      "|15.07|14.75|15.12|14.63| 8407500|0.48999999999999844|        1.0|   1360299600|\n",
      "|14.89|14.46|15.01|14.26| 8882000|               0.75|        1.0|   1360558800|\n",
      "|14.45|14.27|14.51| 14.1| 8126000|0.41000000000000014|        1.0|   1360645200|\n",
      "| 14.3|14.66|14.94|14.25|10259500| 0.6899999999999995|        1.0|   1360731600|\n",
      "|14.94|13.99|14.96|13.16|31879900| 1.8000000000000007|        1.0|   1360818000|\n",
      "|13.93| 14.5|14.61|13.93|15628000| 0.6799999999999997|        1.0|   1360904400|\n",
      "|14.33|14.26|14.56|14.08|11354400| 0.4800000000000004|        1.0|   1361250000|\n",
      "|14.17|13.33|14.26|13.15|14725200| 1.1099999999999994|        1.0|   1361336400|\n",
      "|13.62|13.37|13.95| 12.9|11922100|  1.049999999999999|        1.0|   1361422800|\n",
      "|13.57|13.57| 13.6|13.21| 6071400| 0.3899999999999988|        1.0|   1361509200|\n",
      "| 13.6|13.02|13.76| 13.0| 7186400| 0.7599999999999998|        1.0|   1361768400|\n",
      "|13.14|13.26|13.42| 12.7| 9419000| 0.7200000000000006|        1.0|   1361854800|\n",
      "|13.28|13.41|13.62|13.18| 7390500| 0.4399999999999995|        1.0|   1361941200|\n",
      "|13.49|13.43|13.63|13.39| 6143600| 0.2400000000000002|        1.0|   1362027600|\n",
      "|13.37|13.61|13.95|13.32| 7376800|  0.629999999999999|        1.0|   1362114000|\n",
      "| 13.5| 13.9|14.07|13.47| 8174800| 0.5999999999999996|        1.0|   1362373200|\n",
      "|14.01|14.05|14.05|13.71| 7676100|0.33999999999999986|        1.0|   1362459600|\n",
      "|14.52|14.57|14.68|14.25|13243200| 0.4299999999999997|        1.0|   1362546000|\n",
      "| 14.7|14.82|14.93| 14.5| 9125300| 0.4299999999999997|        1.0|   1362632400|\n",
      "|14.99|14.92| 15.2|14.84|10593700|0.35999999999999943|        1.0|   1362718800|\n",
      "+-----+-----+-----+-----+--------+-------------------+-----------+-------------+\n",
      "only showing top 20 rows\n",
      "\n"
     ]
    }
   ],
   "source": [
    "dataset = dataset.drop('date')\n",
    "dataset.show()"
   ]
  },
  {
   "cell_type": "markdown",
   "metadata": {},
   "source": [
    "Dropping NAN values"
   ]
  },
  {
   "cell_type": "code",
   "execution_count": 115,
   "metadata": {
    "scrolled": true
   },
   "outputs": [
    {
     "name": "stdout",
     "output_type": "stream",
     "text": [
      "+-----+-----+-----+-----+--------+-------------------+-----------+-------------+\n",
      "| open|close| high|  low|  volume|               diff|Stock_Abbrv|dateAsInteger|\n",
      "+-----+-----+-----+-----+--------+-------------------+-----------+-------------+\n",
      "|15.07|14.75|15.12|14.63| 8407500|0.48999999999999844|        1.0|   1360299600|\n",
      "|14.89|14.46|15.01|14.26| 8882000|               0.75|        1.0|   1360558800|\n",
      "|14.45|14.27|14.51| 14.1| 8126000|0.41000000000000014|        1.0|   1360645200|\n",
      "| 14.3|14.66|14.94|14.25|10259500| 0.6899999999999995|        1.0|   1360731600|\n",
      "|14.94|13.99|14.96|13.16|31879900| 1.8000000000000007|        1.0|   1360818000|\n",
      "|13.93| 14.5|14.61|13.93|15628000| 0.6799999999999997|        1.0|   1360904400|\n",
      "|14.33|14.26|14.56|14.08|11354400| 0.4800000000000004|        1.0|   1361250000|\n",
      "|14.17|13.33|14.26|13.15|14725200| 1.1099999999999994|        1.0|   1361336400|\n",
      "|13.62|13.37|13.95| 12.9|11922100|  1.049999999999999|        1.0|   1361422800|\n",
      "|13.57|13.57| 13.6|13.21| 6071400| 0.3899999999999988|        1.0|   1361509200|\n",
      "| 13.6|13.02|13.76| 13.0| 7186400| 0.7599999999999998|        1.0|   1361768400|\n",
      "|13.14|13.26|13.42| 12.7| 9419000| 0.7200000000000006|        1.0|   1361854800|\n",
      "|13.28|13.41|13.62|13.18| 7390500| 0.4399999999999995|        1.0|   1361941200|\n",
      "|13.49|13.43|13.63|13.39| 6143600| 0.2400000000000002|        1.0|   1362027600|\n",
      "|13.37|13.61|13.95|13.32| 7376800|  0.629999999999999|        1.0|   1362114000|\n",
      "| 13.5| 13.9|14.07|13.47| 8174800| 0.5999999999999996|        1.0|   1362373200|\n",
      "|14.01|14.05|14.05|13.71| 7676100|0.33999999999999986|        1.0|   1362459600|\n",
      "|14.52|14.57|14.68|14.25|13243200| 0.4299999999999997|        1.0|   1362546000|\n",
      "| 14.7|14.82|14.93| 14.5| 9125300| 0.4299999999999997|        1.0|   1362632400|\n",
      "|14.99|14.92| 15.2|14.84|10593700|0.35999999999999943|        1.0|   1362718800|\n",
      "+-----+-----+-----+-----+--------+-------------------+-----------+-------------+\n",
      "only showing top 20 rows\n",
      "\n"
     ]
    }
   ],
   "source": [
    "dataset = dataset.na.drop()\n",
    "dataset.show()"
   ]
  },
  {
   "cell_type": "code",
   "execution_count": 116,
   "metadata": {},
   "outputs": [
    {
     "name": "stdout",
     "output_type": "stream",
     "text": [
      "+----+-----+----+---+------+----+-----------+-------------+\n",
      "|open|close|high|low|volume|diff|Stock_Abbrv|dateAsInteger|\n",
      "+----+-----+----+---+------+----+-----------+-------------+\n",
      "|   0|    0|   0|  0|     0|   0|          0|            0|\n",
      "+----+-----+----+---+------+----+-----------+-------------+\n",
      "\n"
     ]
    }
   ],
   "source": [
    "dataset.select([count(when(isnan(c), c)).alias(c) for c in dataset.columns]).show()"
   ]
  },
  {
   "cell_type": "code",
   "execution_count": 146,
   "metadata": {},
   "outputs": [],
   "source": [
    "dataset = dataset.drop('Stock_Abbrv')"
   ]
  },
  {
   "cell_type": "code",
   "execution_count": 147,
   "metadata": {
    "scrolled": true
   },
   "outputs": [
    {
     "name": "stdout",
     "output_type": "stream",
     "text": [
      "+-----+-----+-----+-----+--------+-------------------+-------------+\n",
      "| open|close| high|  low|  volume|               diff|dateAsInteger|\n",
      "+-----+-----+-----+-----+--------+-------------------+-------------+\n",
      "|15.07|14.75|15.12|14.63| 8407500|0.48999999999999844|   1360299600|\n",
      "|14.89|14.46|15.01|14.26| 8882000|               0.75|   1360558800|\n",
      "|14.45|14.27|14.51| 14.1| 8126000|0.41000000000000014|   1360645200|\n",
      "| 14.3|14.66|14.94|14.25|10259500| 0.6899999999999995|   1360731600|\n",
      "|14.94|13.99|14.96|13.16|31879900| 1.8000000000000007|   1360818000|\n",
      "|13.93| 14.5|14.61|13.93|15628000| 0.6799999999999997|   1360904400|\n",
      "|14.33|14.26|14.56|14.08|11354400| 0.4800000000000004|   1361250000|\n",
      "|14.17|13.33|14.26|13.15|14725200| 1.1099999999999994|   1361336400|\n",
      "|13.62|13.37|13.95| 12.9|11922100|  1.049999999999999|   1361422800|\n",
      "|13.57|13.57| 13.6|13.21| 6071400| 0.3899999999999988|   1361509200|\n",
      "| 13.6|13.02|13.76| 13.0| 7186400| 0.7599999999999998|   1361768400|\n",
      "|13.14|13.26|13.42| 12.7| 9419000| 0.7200000000000006|   1361854800|\n",
      "|13.28|13.41|13.62|13.18| 7390500| 0.4399999999999995|   1361941200|\n",
      "|13.49|13.43|13.63|13.39| 6143600| 0.2400000000000002|   1362027600|\n",
      "|13.37|13.61|13.95|13.32| 7376800|  0.629999999999999|   1362114000|\n",
      "| 13.5| 13.9|14.07|13.47| 8174800| 0.5999999999999996|   1362373200|\n",
      "|14.01|14.05|14.05|13.71| 7676100|0.33999999999999986|   1362459600|\n",
      "|14.52|14.57|14.68|14.25|13243200| 0.4299999999999997|   1362546000|\n",
      "| 14.7|14.82|14.93| 14.5| 9125300| 0.4299999999999997|   1362632400|\n",
      "|14.99|14.92| 15.2|14.84|10593700|0.35999999999999943|   1362718800|\n",
      "+-----+-----+-----+-----+--------+-------------------+-------------+\n",
      "only showing top 20 rows\n",
      "\n"
     ]
    }
   ],
   "source": [
    "dataset.show()"
   ]
  },
  {
   "cell_type": "markdown",
   "metadata": {},
   "source": [
    "Converting the variables into a single target variable and scaling them using Min Max Scaler"
   ]
  },
  {
   "cell_type": "code",
   "execution_count": 198,
   "metadata": {},
   "outputs": [],
   "source": [
    "vecAssembler = VectorAssembler(inputCols=dataset.columns, outputCol=\"features\",handleInvalid='skip')\n",
    "normalizer = MinMaxScaler(inputCol=\"features\", outputCol=\"scaledFeatures\",min=0,max=1)\n",
    "pipeline_normalize = Pipeline(stages=[vecAssembler,normalizer])\n",
    "df_transf = pipeline_normalize.fit(dataset).transform(dataset)\n",
    "#%%\n",
    "to_array = F.udf(lambda x: (x.toArray().tolist()), ArrayType(DoubleType())) # IF spark 3.0.0 then a api - vectortoarray available\n",
    "df_array = df_transf.withColumn(\"scaledFeatures\",to_array(\"scaledFeatures\"))\n",
    "#%%\\\n",
    "df_final= df_array.select([F.col('scaledFeatures')[i].alias(dataset.columns[i]) for i in range(len(dataset.columns))])"
   ]
  },
  {
   "cell_type": "code",
   "execution_count": 199,
   "metadata": {},
   "outputs": [
    {
     "name": "stdout",
     "output_type": "stream",
     "text": [
      "+--------------------+--------------------+--------------------+--------------------+--------------------+--------------------+--------------------+\n",
      "|                open|               close|                high|                 low|              volume|                diff|       dateAsInteger|\n",
      "+--------------------+--------------------+--------------------+--------------------+--------------------+--------------------+--------------------+\n",
      "|0.006585454224972825|0.006427632960667379|0.006499540241010503|0.006456498542001663|  0.0135989787187442| 0.00537847886510487|                 0.0|\n",
      "|0.006497321752073561|0.006285990592993098|0.006446304989594929|0.006274556084991715|0.014366483080324295|0.007255531891852887|0.001643835616438356|\n",
      "|0.006281886818319802|0.006193190421068569|0.006204326574069594| 0.00619587826574417|0.013143652105920604|0.004800924087643957|0.002191780821917808|\n",
      "|0.006208443090903749|0.006383674984492603|0.006412428011421...|0.006269638721288743|0.016594591105775464| 0.00682236580875719|0.002739726027397...|\n",
      "|0.006521802994545579|0.006056432272969263|0.006422107148042396|0.005733646077664843| 0.05156561597217435|0.014835938346027531|0.003287671232876712|\n",
      "|0.006027281896610816|0.006305527471292...|0.006252722257174...|0.006112283082793653| 0.02527814677520167|0.006750171461574...|0.003835616438356...|\n",
      "| 0.00622313183638696|0.006188306201493594|0.006228524415622128|0.006186043538338227|0.018365593266985253|0.005306284517922269|0.006027397260273973|\n",
      "|0.006144791860476...|0.005734073781020899|0.006083337366306926|0.005728728713961871|0.023817866611588377|0.009854528390427044|0.006575342465753424|\n",
      "|0.005875498193284305|0.005753610659320...|0.005933310748681218|0.005605794621387582|0.019283848748690248|0.009421362307331347|0.007123287671232876|\n",
      "|0.005851016950812287|0.005851295050820304|0.005763925857813484|0.005758232896179701|0.009820333957759463|0.004656535393278717|0.007671232876712329|\n",
      "|0.005865705696295498|0.005582662974196667|0.005841358950781591|0.005654968258417298|0.011623847894876017|0.007327726239035501|0.009315068493150684|\n",
      "|0.005640478265552933|0.005699884243996072|0.005676813628224363| 0.00550744734732815| 0.01523508127246025|0.007038948850305045|0.009863013698630137|\n",
      "|0.005709025744474584|0.005773147537620701|0.005773604994434497|0.005743480805070786|0.011953979907939236|  0.0050175071291918|0.010410958904109589|\n",
      "|0.005811846962857...|0.005782915976770651|0.005778444562745005|0.005846745442833189|0.009937117550817592|0.003573620185539...|0.010958904109589041|\n",
      "|0.005753091980924216|0.005870831929120205|0.005933310748681218|0.005812323896912...| 0.01193182014028139|0.006389199725661493|0.011506849315068493|\n",
      "|0.005816743211351462|0.006012474296794487|  0.0059913855684073|0.005886084352456962| 0.01322258616881862| 0.00617261668411365|0.013150684931506848|\n",
      "|0.006066451884566046|0.006085737590419...|0.005981706431786286|0.006004101081328279|0.012415938276047296|0.004295563657365646|  0.0136986301369863|\n",
      "|0.006316160557780628|0.006339717008317...|0.006286599235348208|0.006269638721288743| 0.02142072970144781|0.004945312782009185|0.014246575342465753|\n",
      "|0.006404293030679892|0.006461822497692206|0.006407588443110876|0.006392572813863...| 0.01476002114391215|0.004945312782009185|0.014794520547945205|\n",
      "|0.006546284237017598|0.006510664693441958|0.006538256787494557|0.006559763179764065|0.017135160036523763|0.004439952351730874|0.015342465753424657|\n",
      "+--------------------+--------------------+--------------------+--------------------+--------------------+--------------------+--------------------+\n",
      "only showing top 20 rows\n",
      "\n"
     ]
    }
   ],
   "source": [
    "df_final.show()"
   ]
  },
  {
   "cell_type": "markdown",
   "metadata": {},
   "source": [
    "**Converting to Feature vectors and applying minmax scaling**"
   ]
  },
  {
   "cell_type": "code",
   "execution_count": 215,
   "metadata": {},
   "outputs": [],
   "source": [
    "required_features = ['dateAsInteger',\n",
    "                    'open',\n",
    "                    'close',\n",
    "                    'volume',\n",
    "                    'low',\n",
    "                    'diff',\n",
    "                   ]\n",
    "assembler = VectorAssembler(inputCols=required_features, outputCol='features')\n",
    "transformed_data = assembler.transform(df_final)"
   ]
  },
  {
   "cell_type": "code",
   "execution_count": 216,
   "metadata": {
    "scrolled": true
   },
   "outputs": [
    {
     "name": "stdout",
     "output_type": "stream",
     "text": [
      "+--------------------+--------------------+--------------------+--------------------+--------------------+--------------------+--------------------+--------------------+\n",
      "|                open|               close|                high|                 low|              volume|                diff|       dateAsInteger|            features|\n",
      "+--------------------+--------------------+--------------------+--------------------+--------------------+--------------------+--------------------+--------------------+\n",
      "|0.006585454224972825|0.006427632960667379|0.006499540241010503|0.006456498542001663|  0.0135989787187442| 0.00537847886510487|                 0.0|[0.0,0.0065854542...|\n",
      "|0.006497321752073561|0.006285990592993098|0.006446304989594929|0.006274556084991715|0.014366483080324295|0.007255531891852887|0.001643835616438356|[0.00164383561643...|\n",
      "|0.006281886818319802|0.006193190421068569|0.006204326574069594| 0.00619587826574417|0.013143652105920604|0.004800924087643957|0.002191780821917808|[0.00219178082191...|\n",
      "|0.006208443090903749|0.006383674984492603|0.006412428011421...|0.006269638721288743|0.016594591105775464| 0.00682236580875719|0.002739726027397...|[0.00273972602739...|\n",
      "|0.006521802994545579|0.006056432272969263|0.006422107148042396|0.005733646077664843| 0.05156561597217435|0.014835938346027531|0.003287671232876712|[0.00328767123287...|\n",
      "|0.006027281896610816|0.006305527471292...|0.006252722257174...|0.006112283082793653| 0.02527814677520167|0.006750171461574...|0.003835616438356...|[0.00383561643835...|\n",
      "| 0.00622313183638696|0.006188306201493594|0.006228524415622128|0.006186043538338227|0.018365593266985253|0.005306284517922269|0.006027397260273973|[0.00602739726027...|\n",
      "|0.006144791860476...|0.005734073781020899|0.006083337366306926|0.005728728713961871|0.023817866611588377|0.009854528390427044|0.006575342465753424|[0.00657534246575...|\n",
      "|0.005875498193284305|0.005753610659320...|0.005933310748681218|0.005605794621387582|0.019283848748690248|0.009421362307331347|0.007123287671232876|[0.00712328767123...|\n",
      "|0.005851016950812287|0.005851295050820304|0.005763925857813484|0.005758232896179701|0.009820333957759463|0.004656535393278717|0.007671232876712329|[0.00767123287671...|\n",
      "|0.005865705696295498|0.005582662974196667|0.005841358950781591|0.005654968258417298|0.011623847894876017|0.007327726239035501|0.009315068493150684|[0.00931506849315...|\n",
      "|0.005640478265552933|0.005699884243996072|0.005676813628224363| 0.00550744734732815| 0.01523508127246025|0.007038948850305045|0.009863013698630137|[0.00986301369863...|\n",
      "|0.005709025744474584|0.005773147537620701|0.005773604994434497|0.005743480805070786|0.011953979907939236|  0.0050175071291918|0.010410958904109589|[0.01041095890410...|\n",
      "|0.005811846962857...|0.005782915976770651|0.005778444562745005|0.005846745442833189|0.009937117550817592|0.003573620185539...|0.010958904109589041|[0.01095890410958...|\n",
      "|0.005753091980924216|0.005870831929120205|0.005933310748681218|0.005812323896912...| 0.01193182014028139|0.006389199725661493|0.011506849315068493|[0.01150684931506...|\n",
      "|0.005816743211351462|0.006012474296794487|  0.0059913855684073|0.005886084352456962| 0.01322258616881862| 0.00617261668411365|0.013150684931506848|[0.01315068493150...|\n",
      "|0.006066451884566046|0.006085737590419...|0.005981706431786286|0.006004101081328279|0.012415938276047296|0.004295563657365646|  0.0136986301369863|[0.01369863013698...|\n",
      "|0.006316160557780628|0.006339717008317...|0.006286599235348208|0.006269638721288743| 0.02142072970144781|0.004945312782009185|0.014246575342465753|[0.01424657534246...|\n",
      "|0.006404293030679892|0.006461822497692206|0.006407588443110876|0.006392572813863...| 0.01476002114391215|0.004945312782009185|0.014794520547945205|[0.01479452054794...|\n",
      "|0.006546284237017598|0.006510664693441958|0.006538256787494557|0.006559763179764065|0.017135160036523763|0.004439952351730874|0.015342465753424657|[0.01534246575342...|\n",
      "+--------------------+--------------------+--------------------+--------------------+--------------------+--------------------+--------------------+--------------------+\n",
      "only showing top 20 rows\n",
      "\n"
     ]
    }
   ],
   "source": [
    "transformed_data.show()"
   ]
  },
  {
   "cell_type": "markdown",
   "metadata": {},
   "source": [
    "**Modeling**"
   ]
  },
  {
   "cell_type": "code",
   "execution_count": 217,
   "metadata": {},
   "outputs": [],
   "source": [
    "featureIndexer =\\\n",
    "    VectorIndexer(inputCol=\"features\", outputCol=\"indexedFeatures\", maxCategories=4).fit(transformed_data)"
   ]
  },
  {
   "cell_type": "code",
   "execution_count": 218,
   "metadata": {},
   "outputs": [],
   "source": [
    "(training_data, test_data) = transformed_data.randomSplit([0.8,0.2])"
   ]
  },
  {
   "cell_type": "code",
   "execution_count": 219,
   "metadata": {},
   "outputs": [
    {
     "name": "stdout",
     "output_type": "stream",
     "text": [
      "+--------------------+--------------------+--------------------+--------------------+--------------------+--------------------+-------------------+--------------------+\n",
      "|                open|               close|                high|                 low|              volume|                diff|      dateAsInteger|            features|\n",
      "+--------------------+--------------------+--------------------+--------------------+--------------------+--------------------+-------------------+--------------------+\n",
      "|2.448124247201785E-5|1.465265872492565E-5|4.839568310506708E-6|5.409100073268724E-5|0.019274738981431196|0.002490704977800256| 0.4925799086757991|[0.49257990867579...|\n",
      "|2.448124247201785E-5|3.907375659980162...|                 0.0| 7.37604555445734E-5|0.011330955613986999|0.002129733241887179|  0.527648401826484|[0.52764840182648...|\n",
      "|2.937749096642144...|6.349485447467771E-5|1.935827324202683E-5|7.867781924754497E-5|0.018193007496961577|0.002346316283435026| 0.5249086757990867|[0.52490867579908...|\n",
      "|3.427373946082504E-5|3.418953702482641E-5|4.839568310506708E-6|7.867781924754497E-5| 0.00920837337262326|0.002129733241887179| 0.5271004566210046|[0.52710045662100...|\n",
      "|3.427373946082504E-5|6.349485447467771E-5|1.935827324202683E-5|7.867781924754497E-5|   0.017331796433212|0.002346316283435026| 0.5090182648401826|[0.50901826484018...|\n",
      "|3.427373946082504E-5|7.814751319960336E-5|6.775395634709391E-5| 7.37604555445734E-5|0.027848953181229475|0.003140454102443...| 0.5079223744292237|[0.50792237442922...|\n",
      "|3.916998795522863E-5|6.349485447467771E-5|1.451870493152012...|8.851254665348811E-5|0.009283483662474331|0.002129733241887179| 0.5281963470319635|[0.52819634703196...|\n",
      "|  5.8754981932843E-5|9.280017192452901E-5| 7.01737405023472E-5|1.180167288713175...| 0.01914990831946082|0.002526802151391...|  0.509566210045662|[0.50956621004566...|\n",
      "| 6.36512304272466E-5|5.861063489970249E-5|2.903740986304024...|8.851254665348811E-5|0.009130052342713734|0.002346316283435026| 0.5254566210045662|[0.52545662100456...|\n",
      "| 6.36512304272466E-5|8.791595234955379E-5|3.871654648405366E-5|1.081820014653743...| 0.01020001974030923|0.002201927589069795| 0.5128538812785388|[0.51285388127853...|\n",
      "| 6.36512304272466E-5|1.269897089493555...|8.711222958912073E-5|1.229340925742890...| 0.01767033298297231|0.002707288019348...| 0.5101141552511416|[0.51011415525114...|\n",
      "|6.854747892165019E-5|3.907375659980162...|3.871654648405366E-5| 7.37604555445734E-5|   0.026653631051246|0.002707288019348...| 0.4909360730593607|[0.49093607305936...|\n",
      "|6.854747892165019E-5|9.768439149950422E-5|7.743309296810732E-5|1.278514562772606...|0.011572016683574705|0.002490704977800...| 0.5134018264840182|[0.51340182648401...|\n",
      "|6.854747892165019E-5|1.123370502244298...|7.259352465760062E-5|1.278514562772606...|0.010878008345559366|0.002418510630617642| 0.5139497716894977|[0.51394977168949...|\n",
      "|6.854747892165019E-5|1.172212697994050...|6.775395634709391E-5|1.081820014653743...|0.011558641565416842|0.002635093672165489| 0.5292922374429224|[0.52929223744292...|\n",
      "|7.344372741605378E-5|7.326329362462814E-5|3.871654648405366E-5|1.081820014653743...| 0.00894743159469376|0.002201927589069795| 0.5287442922374429|[0.52874429223744...|\n",
      "|7.344372741605378E-5|1.807161242740828E-4|1.451870493152011...|1.278514562772606...|0.041379092662619646|0.003501425838356875|0.49367579908675796|[0.49367579908675...|\n",
      "|8.323622440486096E-5|5.372641532472727...|5.323525141557378...|9.834727405943125E-5|0.022233457781564082|0.002562899324982873| 0.5057305936073059|[0.50573059360730...|\n",
      "|8.323622440486096E-5|1.025686110744794...| 6.29143880365872E-5|1.229340925742890...|0.015773621856592274|0.002346316283435026| 0.5046347031963471|[0.50463470319634...|\n",
      "|8.813247289926455E-5|6.837907404965293E-5|7.022213618545227E-5|1.057233196138886...|0.016134680494299142|0.002708009962819929| 0.5238127853881278|[0.52381278538812...|\n",
      "+--------------------+--------------------+--------------------+--------------------+--------------------+--------------------+-------------------+--------------------+\n",
      "only showing top 20 rows\n",
      "\n"
     ]
    }
   ],
   "source": [
    "training_data.show()"
   ]
  },
  {
   "cell_type": "code",
   "execution_count": 220,
   "metadata": {},
   "outputs": [],
   "source": [
    "rf = RandomForestRegressor(featuresCol=\"indexedFeatures\",labelCol='high')\n",
    "pipeline = Pipeline(stages=[featureIndexer, rf])"
   ]
  },
  {
   "cell_type": "code",
   "execution_count": 221,
   "metadata": {},
   "outputs": [],
   "source": [
    "model = pipeline.fit(training_data)"
   ]
  },
  {
   "cell_type": "code",
   "execution_count": 222,
   "metadata": {},
   "outputs": [],
   "source": [
    "predictions = model.transform(test_data)"
   ]
  },
  {
   "cell_type": "code",
   "execution_count": 224,
   "metadata": {},
   "outputs": [
    {
     "name": "stdout",
     "output_type": "stream",
     "text": [
      "Root Mean Squared Error (RMSE) on test data =  0.05810955446086183\n",
      "Accuracy on test data =  0.8456334466473277\n"
     ]
    }
   ],
   "source": [
    "evaluator = RegressionEvaluator(\n",
    "    labelCol=\"volume\", predictionCol=\"prediction\", metricName=\"rmse\")\n",
    "rmse = evaluator.evaluate(predictions)\n",
    "print(\"Root Mean Squared Error (RMSE) on test data = \", rmse)\n",
    "accuracy = evaluator.evaluate(predictions)\n",
    "print(\"Accuracy on test data = s\", accuracy)"
   ]
  },
  {
   "cell_type": "code",
   "execution_count": null,
   "metadata": {},
   "outputs": [],
   "source": []
  }
 ],
 "metadata": {
  "kernelspec": {
   "display_name": "Python 3",
   "language": "python",
   "name": "python3"
  },
  "language_info": {
   "codemirror_mode": {
    "name": "ipython",
    "version": 3
   },
   "file_extension": ".py",
   "mimetype": "text/x-python",
   "name": "python",
   "nbconvert_exporter": "python",
   "pygments_lexer": "ipython3",
   "version": "3.8.5"
  }
 },
 "nbformat": 4,
 "nbformat_minor": 4
}
